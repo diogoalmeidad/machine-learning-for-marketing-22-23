{
 "cells": [
  {
   "cell_type": "markdown",
   "metadata": {},
   "source": [
    "# Flow control\n",
    "### (c) Nuno António 2020-2022 v1.00\n",
    "Not for sharing. This file is for class hands-on teaching"
   ]
  },
  {
   "cell_type": "markdown",
   "metadata": {},
   "source": [
    "## If statement"
   ]
  },
  {
   "cell_type": "code",
   "execution_count": 9,
   "metadata": {},
   "outputs": [
    {
     "name": "stdout",
     "output_type": "stream",
     "text": [
      "bigger\n",
      "end\n"
     ]
    }
   ],
   "source": [
    "# Run this statement if the X with the values 7, 20, 1, and 14\n",
    "# CALL the atention to indentation\n",
    "x = 20\n",
    "if x < 10:\n",
    "    print(\"smaller\")\n",
    "if x > 15:\n",
    "    print(\"bigger\")\n",
    "print(\"end\")"
   ]
  },
  {
   "cell_type": "code",
   "execution_count": 11,
   "metadata": {},
   "outputs": [
    {
     "name": "stdout",
     "output_type": "stream",
     "text": [
      "bigger\n",
      "end\n"
     ]
    }
   ],
   "source": [
    "# Let's check how indentation affects for x=20 (1)\n",
    "x = 20\n",
    "if x < 10:\n",
    "    print(\"smaller\")\n",
    "if x > 15:\n",
    "    print(\"bigger\")\n",
    "\n",
    "print(\"end\")"
   ]
  },
  {
   "cell_type": "code",
   "execution_count": 12,
   "metadata": {},
   "outputs": [
    {
     "name": "stdout",
     "output_type": "stream",
     "text": [
      "end\n"
     ]
    }
   ],
   "source": [
    "# Let's check how indentation affects for x=20 (2)\n",
    "x = 20\n",
    "if x < 10:\n",
    "    print(\"smaller\")\n",
    "    if x > 15:\n",
    "        print(\"bigger\")\n",
    "print(\"end\")"
   ]
  },
  {
   "cell_type": "code",
   "execution_count": 14,
   "metadata": {},
   "outputs": [],
   "source": [
    "# Let's check how indentation affects for x=20 (3)\n",
    "x = 20\n",
    "if x < 10:\n",
    "    print(\"smaller\")\n",
    "    if x > 15:\n",
    "        print(\"bigger\")\n",
    "\n",
    "    print(\"end\")"
   ]
  },
  {
   "cell_type": "code",
   "execution_count": 19,
   "metadata": {},
   "outputs": [
    {
     "name": "stdout",
     "output_type": "stream",
     "text": [
      "1 or more\n",
      "end\n"
     ]
    }
   ],
   "source": [
    "# Using nested IF's for multiple comparisons\n",
    "# Run the example with 7, 0, 80, 120\n",
    "x = 7\n",
    "if x >= 1:\n",
    "    print(\"1 or more\")\n",
    "    if x <= 100:\n",
    "        print(\"100 or less\")\n",
    "print(\"end\") "
   ]
  },
  {
   "cell_type": "code",
   "execution_count": 37,
   "metadata": {},
   "outputs": [
    {
     "name": "stdout",
     "output_type": "stream",
     "text": [
      "1 or more\n",
      "end\n"
     ]
    }
   ],
   "source": [
    "# Two-way decision: else\n",
    "# Test with 7 and 0\n",
    "x = 7\n",
    "if x >= 1:\n",
    "    print(\"1 or more\")\n",
    "else:\n",
    "    print(\"less than 1\")\n",
    "print(\"end\")"
   ]
  },
  {
   "cell_type": "code",
   "execution_count": 27,
   "metadata": {},
   "outputs": [
    {
     "name": "stdout",
     "output_type": "stream",
     "text": [
      "small\n",
      "end\n"
     ]
    }
   ],
   "source": [
    "# Multi-way decisions: elif\n",
    "# Test with 1, 8, 15, 30\n",
    "x = 1\n",
    "if x < 2:\n",
    "    print(\"small\")\n",
    "elif x < 10:\n",
    "    print(\"medium\")\n",
    "elif x < 20:\n",
    "    print(\"large\")\n",
    "else:\n",
    "    print(\"extra large\")\n",
    "print(\"end\")"
   ]
  },
  {
   "cell_type": "code",
   "execution_count": 33,
   "metadata": {},
   "outputs": [
    {
     "name": "stdout",
     "output_type": "stream",
     "text": [
      "extreme value\n"
     ]
    }
   ],
   "source": [
    "# Combination with logical operators - OR\n",
    "# Parenthesis are not mandatory, but are a good practice to improve readability \n",
    "# Test with 1 and 15\n",
    "x = 1\n",
    "if (x < 10) or (x > 100):\n",
    "    print(\"extreme value\")\n",
    "else:\n",
    "    print(\"regular value\")"
   ]
  },
  {
   "cell_type": "code",
   "execution_count": 36,
   "metadata": {},
   "outputs": [
    {
     "name": "stdout",
     "output_type": "stream",
     "text": [
      "extreme value\n"
     ]
    }
   ],
   "source": [
    "# QUESTION to students----\n",
    "# The same result with a AND - how could it be done\n",
    "# Test with 1 and 15\n",
    "x = 1\n",
    "if (x >= 10) and (x<=100):\n",
    "    print(\"regular value\")\n",
    "else:\n",
    "    print(\"extreme value\")"
   ]
  },
  {
   "cell_type": "markdown",
   "metadata": {},
   "source": [
    "## Loops"
   ]
  },
  {
   "cell_type": "code",
   "execution_count": 47,
   "metadata": {},
   "outputs": [
    {
     "name": "stdout",
     "output_type": "stream",
     "text": [
      "1\n",
      "2\n",
      "4\n",
      "5\n",
      "6\n",
      "7\n",
      "8\n",
      "9\n",
      "10\n"
     ]
    }
   ],
   "source": [
    "# While loop to print 1 to 10, but do not print 3\n",
    "x = 0\n",
    "while x < 10:\n",
    "    x = x + 1\n",
    "    if x == 3:\n",
    "        continue\n",
    "    print(x)"
   ]
  },
  {
   "cell_type": "code",
   "execution_count": 48,
   "metadata": {},
   "outputs": [
    {
     "name": "stdout",
     "output_type": "stream",
     "text": [
      "1\n",
      "2\n"
     ]
    }
   ],
   "source": [
    "# Now, a variation. Stop when 3 is reached\n",
    "x = 0\n",
    "while x < 10:\n",
    "    x = x + 1\n",
    "    if x == 3:\n",
    "        break\n",
    "    print(x)"
   ]
  },
  {
   "cell_type": "code",
   "execution_count": 50,
   "metadata": {},
   "outputs": [
    {
     "name": "stdout",
     "output_type": "stream",
     "text": [
      "0 M\n",
      "1 o\n",
      "2 n\n",
      "3 t\n",
      "4 y\n",
      "5  \n",
      "6 P\n",
      "7 y\n",
      "8 t\n",
      "9 h\n",
      "10 o\n",
      "11 n\n",
      "12 '\n",
      "13 s\n",
      "14  \n",
      "15 T\n",
      "16 h\n",
      "17 e\n",
      "18  \n",
      "19 L\n",
      "20 i\n",
      "21 f\n",
      "22 e\n",
      "23  \n",
      "24 o\n",
      "25 f\n",
      "26  \n",
      "27 B\n",
      "28 r\n",
      "29 i\n",
      "30 a\n",
      "31 n\n"
     ]
    }
   ],
   "source": [
    "# Iteration in a string using index\n",
    "film = \"Monty Python's The Life of Brian\"\n",
    "for i in range(0, len(film)):\n",
    "    print(i, film[i])"
   ]
  },
  {
   "cell_type": "code",
   "execution_count": 55,
   "metadata": {},
   "outputs": [
    {
     "name": "stdout",
     "output_type": "stream",
     "text": [
      "I love John\n",
      "I love Mary\n",
      "I love Anne\n",
      "I love Paul\n"
     ]
    }
   ],
   "source": [
    "# Iteration in a list, using element\n",
    "friends = ['John', 'Mary', 'Anne', 'Paul']\n",
    "for friend in friends:\n",
    "    s = \"I love \" + friend\n",
    "    print(s)"
   ]
  },
  {
   "cell_type": "markdown",
   "metadata": {},
   "source": [
    "## Exception handling"
   ]
  },
  {
   "cell_type": "code",
   "execution_count": 40,
   "metadata": {},
   "outputs": [
    {
     "ename": "ZeroDivisionError",
     "evalue": "division by zero",
     "output_type": "error",
     "traceback": [
      "\u001b[0;31m---------------------------------------------------------------------------\u001b[0m",
      "\u001b[0;31mZeroDivisionError\u001b[0m                         Traceback (most recent call last)",
      "\u001b[0;32m<ipython-input-40-1151e4fc9e6f>\u001b[0m in \u001b[0;36m<module>\u001b[0;34m\u001b[0m\n\u001b[1;32m      3\u001b[0m \u001b[0mx\u001b[0m \u001b[0;34m=\u001b[0m \u001b[0;36m7\u001b[0m\u001b[0;34m\u001b[0m\u001b[0;34m\u001b[0m\u001b[0m\n\u001b[1;32m      4\u001b[0m \u001b[0my\u001b[0m \u001b[0;34m=\u001b[0m \u001b[0;36m0\u001b[0m\u001b[0;34m\u001b[0m\u001b[0;34m\u001b[0m\u001b[0m\n\u001b[0;32m----> 5\u001b[0;31m \u001b[0mz\u001b[0m \u001b[0;34m=\u001b[0m \u001b[0mx\u001b[0m\u001b[0;34m/\u001b[0m\u001b[0my\u001b[0m\u001b[0;34m\u001b[0m\u001b[0;34m\u001b[0m\u001b[0m\n\u001b[0m\u001b[1;32m      6\u001b[0m \u001b[0mprint\u001b[0m\u001b[0;34m(\u001b[0m\u001b[0mz\u001b[0m\u001b[0;34m)\u001b[0m\u001b[0;34m\u001b[0m\u001b[0;34m\u001b[0m\u001b[0m\n",
      "\u001b[0;31mZeroDivisionError\u001b[0m: division by zero"
     ]
    }
   ],
   "source": [
    "# Errors can happen\n",
    "# For example, a typical error is the division by 0\n",
    "x = 7\n",
    "y = 0\n",
    "z = x/y\n",
    "print(z)"
   ]
  },
  {
   "cell_type": "code",
   "execution_count": 42,
   "metadata": {},
   "outputs": [
    {
     "name": "stdout",
     "output_type": "stream",
     "text": [
      "0\n"
     ]
    }
   ],
   "source": [
    "# This error can be solved with this code\n",
    "# Show results with y=0 and y=2\n",
    "x = 7\n",
    "y = 0\n",
    "try:\n",
    "    z = x/y\n",
    "except:\n",
    "    z = 0\n",
    "finally:\n",
    "    print(z)"
   ]
  },
  {
   "cell_type": "code",
   "execution_count": null,
   "metadata": {},
   "outputs": [],
   "source": []
  }
 ],
 "metadata": {
  "kernelspec": {
   "display_name": "Python 3",
   "name": "python3"
  },
  "language_info": {
   "codemirror_mode": {
    "name": "ipython",
    "version": 3
   },
   "file_extension": ".py",
   "mimetype": "text/x-python",
   "name": "python",
   "nbconvert_exporter": "python",
   "pygments_lexer": "ipython3",
   "version": "3.7.4-final"
  },
  "orig_nbformat": 2
 },
 "nbformat": 4,
 "nbformat_minor": 2
}
