{
 "cells": [
  {
   "cell_type": "markdown",
   "metadata": {},
   "source": [
    "# Functions\n",
    "### (c) Nuno António 2020-2022 v1.00\n",
    "Not for sharing. This file is for class hands-on teaching"
   ]
  },
  {
   "cell_type": "markdown",
   "metadata": {},
   "source": [
    "## Built-in functions"
   ]
  },
  {
   "cell_type": "code",
   "execution_count": 2,
   "metadata": {},
   "outputs": [],
   "source": [
    "# Open the link to show functions: https://docs.python.org/3/library/functions.html\n",
    "# See the max details"
   ]
  },
  {
   "cell_type": "code",
   "execution_count": 3,
   "metadata": {},
   "outputs": [
    {
     "data": {
      "text/plain": [
       "7"
      ]
     },
     "execution_count": 3,
     "metadata": {},
     "output_type": "execute_result"
    }
   ],
   "source": [
    "# For example, the max() function\n",
    "max([1, 2, 3, 4, 7, 5])"
   ]
  },
  {
   "cell_type": "code",
   "execution_count": 13,
   "metadata": {},
   "outputs": [
    {
     "name": "stdout",
     "output_type": "stream",
     "text": [
      "Help on built-in function max in module builtins:\n",
      "\n",
      "max(...)\n",
      "    max(iterable, *[, default=obj, key=func]) -> value\n",
      "    max(arg1, arg2, *args, *[, key=func]) -> value\n",
      "    \n",
      "    With a single iterable argument, return its biggest item. The\n",
      "    default keyword-only argument specifies an object to return if\n",
      "    the provided iterable is empty.\n",
      "    With two or more arguments, return the largest argument.\n",
      "\n"
     ]
    }
   ],
   "source": [
    "# There is even a function to get help on functions and commands\n",
    "help(\"max\")"
   ]
  },
  {
   "cell_type": "markdown",
   "metadata": {},
   "source": [
    "## Custom functions"
   ]
  },
  {
   "cell_type": "code",
   "execution_count": 7,
   "metadata": {},
   "outputs": [
    {
     "name": "stdout",
     "output_type": "stream",
     "text": [
      "The minimum of l1 is 2\n",
      "The minimum of l2 is 3\n"
     ]
    }
   ],
   "source": [
    "# Just for example let's build code without a function for findind the minimum value\n",
    "l1 = [2, 3, 4, 6, 8, 9]\n",
    "m = 9999999\n",
    "for l in l1: \n",
    "    if l < m:\n",
    "        m = l\n",
    "print(\"The minimum of l1 is\", m)\n",
    "\n",
    "l2 = [3, 5, 4, 8, 7, 10]\n",
    "m = 9999999\n",
    "for l in l2: \n",
    "    if l < m:\n",
    "        m = l\n",
    "print(\"The minimum of l2 is\", m)\n"
   ]
  },
  {
   "cell_type": "code",
   "execution_count": 8,
   "metadata": {},
   "outputs": [
    {
     "name": "stdout",
     "output_type": "stream",
     "text": [
      "The minimum of l1 is 2\n",
      "The minimum of l2 is 3\n"
     ]
    }
   ],
   "source": [
    "# Now with a function for the min()\n",
    "# There is one already. We are just considering there isn't one\n",
    "\n",
    "# Talk about:\n",
    "# Code easier to read\n",
    "# Simpler code\n",
    "# Easy to debug and to maintain in the future\n",
    "# Shorter code, in particular if is a repetitive block of code\n",
    "\n",
    "def minimum(elem):\n",
    "    m = 9999999\n",
    "    for l in elem:\n",
    "        if l < m:\n",
    "            m = l\n",
    "    return m\n",
    "\n",
    "l1 = [2, 3, 4, 6, 8, 9]\n",
    "print(\"The minimum of l1 is\", minimum(l1))\n",
    "\n",
    "l2 = [3, 5, 4, 8, 7, 10]\n",
    "print(\"The minimum of l2 is\", minimum(l2))"
   ]
  },
  {
   "cell_type": "code",
   "execution_count": 10,
   "metadata": {},
   "outputs": [
    {
     "name": "stdout",
     "output_type": "stream",
     "text": [
      "The minimum of l1 is 2\n"
     ]
    }
   ],
   "source": [
    "# Now, let's add an additional parameter (argument) with a default value, and...\n",
    "# add a description to the function (hover abover the name of the function after)\n",
    "def minimum(elem, initial_value=999):\n",
    "    \"\"\"\n",
    "    Return the minimum value of the first parameter (elem)\n",
    "    \"\"\"\n",
    "    m = initial_value\n",
    "    for l in elem:\n",
    "        if l < m:\n",
    "            m = l\n",
    "    return m\n",
    "\n",
    "l1 = [2, 3, 4, 6, 8, 9]\n",
    "print(\"The minimum of l1 is\", minimum(l1))"
   ]
  },
  {
   "cell_type": "code",
   "execution_count": 11,
   "metadata": {},
   "outputs": [
    {
     "name": "stdout",
     "output_type": "stream",
     "text": [
      "The minimum of l1 is 1\n"
     ]
    }
   ],
   "source": [
    "# Now, let's call with a \"initial_value\" of 1\n",
    "# Whis is the output 1 ???\n",
    "print(\"The minimum of l1 is\", minimum(l1,1))"
   ]
  },
  {
   "cell_type": "code",
   "execution_count": 15,
   "metadata": {},
   "outputs": [
    {
     "data": {
      "text/plain": [
       "7"
      ]
     },
     "execution_count": 15,
     "metadata": {},
     "output_type": "execute_result"
    }
   ],
   "source": [
    "# What about lambda functions\n",
    "# How could we add to numbers with a lambda function\n",
    "add = lambda x, y: x + y\n",
    "add(3,4)"
   ]
  },
  {
   "cell_type": "code",
   "execution_count": null,
   "metadata": {},
   "outputs": [],
   "source": []
  }
 ],
 "metadata": {
  "kernelspec": {
   "display_name": "Python 3",
   "name": "python3"
  },
  "language_info": {
   "codemirror_mode": {
    "name": "ipython",
    "version": 3
   },
   "file_extension": ".py",
   "mimetype": "text/x-python",
   "name": "python",
   "nbconvert_exporter": "python",
   "pygments_lexer": "ipython3",
   "version": "3.7.4-final"
  },
  "orig_nbformat": 2
 },
 "nbformat": 4,
 "nbformat_minor": 2
}
