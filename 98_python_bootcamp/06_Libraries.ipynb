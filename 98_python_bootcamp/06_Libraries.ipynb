{
 "cells": [
  {
   "cell_type": "markdown",
   "metadata": {},
   "source": [
    "# Libraries\n",
    "### (c) Nuno António 2020-2022 v1.00\n",
    "Not for sharing. This file is for class hands-on teaching"
   ]
  },
  {
   "cell_type": "code",
   "execution_count": 3,
   "metadata": {},
   "outputs": [],
   "source": [
    "# Show in the Anaconda Navigator how to install a package, in the Environments -> \"Search package\" or see what is installed"
   ]
  },
  {
   "cell_type": "code",
   "execution_count": 10,
   "metadata": {},
   "outputs": [
    {
     "name": "stdout",
     "output_type": "stream",
     "text": [
      "\n",
      "Please wait a moment while I gather a list of all available modules...\n",
      "\n"
     ]
    },
    {
     "data": {
      "application/javascript": "window.genUID = function() {\n    return 'xxxxxxxx-xxxx-4xxx-yxxx-xxxxxxxxxxxx'.replace(/[xy]/g, function(c) {\n        var r = Math.random()*16|0, v = c == 'x' ? r : (r&0x3|0x8);\n        return v.toString(16);\n    });\n};\n\n\ndefine('graphWidget', [\"@jupyter-widgets/base\"], function (widget) {\n\n    var GraphView = widget.DOMWidgetView.extend({\n        render: function(){\n            var that = this;\n\n            var graphId = window.genUID();\n            var loadingId = 'loading-'+graphId;\n\n\n            var _graph_url = that.model.get('_graph_url');\n\n            // variable plotlyDomain in the case of enterprise\n            var url_parts = _graph_url.split('/');\n            var plotlyDomain = url_parts[0] + '//' + url_parts[2];\n\n            if(!('plotlyDomains' in window)){\n                window.plotlyDomains = {};\n            }\n            window.plotlyDomains[graphId] = plotlyDomain;\n\n            // Place IFrame in output cell div `$el`\n            that.$el.css('width', '100%');\n            that.$graph = $(['<iframe id=\"'+graphId+'\"',\n                             'src=\"'+_graph_url+'.embed\"',\n                             'seamless',\n                             'style=\"border: none;\"',\n                             'width=\"100%\"',\n                             'height=\"600\">',\n                             '</iframe>'].join(' '));\n            that.$graph.appendTo(that.$el);\n\n            that.$loading = $('<div id=\"'+loadingId+'\">Initializing...</div>')\n                            .appendTo(that.$el);\n\n            // for some reason the 'width' is being changed in IPython 3.0.0\n            // for the containing `div` element. There's a flicker here, but\n            // I was unable to fix it otherwise.\n            setTimeout(function ()  {\n                if (IPYTHON_VERSION === '3') {\n                    $('#' + graphId)[0].parentElement.style.width = '100%';\n                }\n            }, 500);\n\n            // initialize communication with the iframe\n            if(!('pingers' in window)){\n                window.pingers = {};\n            }\n\n            window.pingers[graphId] = setInterval(function() {\n                that.graphContentWindow = $('#'+graphId)[0].contentWindow;\n                that.graphContentWindow.postMessage({task: 'ping'}, plotlyDomain);\n            }, 200);\n\n            // Assign a message listener to the 'message' events\n            // from iframe's postMessage protocol.\n            // Filter the messages by iframe src so that the right message\n            // gets passed to the right widget\n            if(!('messageListeners' in window)){\n                 window.messageListeners = {};\n            }\n\n            window.messageListeners[graphId] = function(e) {\n                if(_graph_url.indexOf(e.origin)>-1) {\n                    var frame = document.getElementById(graphId);\n\n                    if(frame === null){\n                        // frame doesn't exist in the dom anymore, clean up it's old event listener\n                        window.removeEventListener('message', window.messageListeners[graphId]);\n                        clearInterval(window.pingers[graphId]);\n                    } else if(frame.contentWindow === e.source) {\n                        // TODO: Stop event propagation, so each frame doesn't listen and filter\n                        var frameContentWindow = $('#'+graphId)[0].contentWindow;\n                        var message = e.data;\n\n                        if('pong' in message && message.pong) {\n                            $('#loading-'+graphId).hide();\n                            clearInterval(window.pingers[graphId]);\n                            that.send({event: 'pong', graphId: graphId});\n                        } else if (message.type==='hover' ||\n                                   message.type==='zoom'  ||\n                                   message.type==='click' ||\n                                   message.type==='unhover') {\n\n                            // click and hover events contain all of the data in the traces,\n                            // which can be a very large object and may take a ton of time\n                            // to pass to the python backend. Strip out the data, and require\n                            // the user to call get_figure if they need trace information\n                            if(message.type !== 'zoom') {\n                                for(var i in message.points) {\n                                    delete message.points[i].data;\n                                    delete message.points[i].fullData;\n                                }\n                            }\n                            that.send({event: message.type, message: message, graphId: graphId});\n                        } else if (message.task === 'getAttributes') {\n                            that.send({event: 'getAttributes', response: message.response});\n                        }\n                    }\n                }\n            };\n\n            window.removeEventListener('message', window.messageListeners[graphId]);\n            window.addEventListener('message', window.messageListeners[graphId]);\n\n        },\n\n        update: function() {\n            // Listen for messages from the graph widget in python\n            var jmessage = this.model.get('_message');\n            var message = JSON.parse(jmessage);\n\n            // check for duplicate messages\n            if(!('messageIds' in window)){\n                window.messageIds = {};\n            }\n\n            if(!(message.uid in window.messageIds)){\n                // message hasn't been received yet, do stuff\n                window.messageIds[message.uid] = true;\n\n                if (message.fadeTo) {\n                    this.fadeTo(message);\n                } else {\n                    var plot = $('#' + message.graphId)[0].contentWindow;\n                    plot.postMessage(message, window.plotlyDomains[message.graphId]);\n                }\n            }\n\n            return GraphView.__super__.update.apply(this);\n        },\n\n        /**\n         * Wrapper for jquery's `fadeTo` function.\n         *\n         * @param message Contains the id we need to find the element.\n         */\n        fadeTo: function (message) {\n            var plot = $('#' + message.graphId);\n            plot.fadeTo(message.duration, message.opacity);\n        }\n    });\n\n    // Register the GraphView with the widget manager.\n    return {\n        GraphView: GraphView\n    }\n\n});\n\n//@ sourceURL=graphWidget.js\n",
      "text/plain": [
       "<IPython.core.display.Javascript object>"
      ]
     },
     "metadata": {},
     "output_type": "display_data"
    },
    {
     "name": "stderr",
     "output_type": "stream",
     "text": [
      "Using TensorFlow backend.\n",
      "WARNING:tensorflow:From /Library/Frameworks/Python.framework/Versions/3.7/lib/python3.7/site-packages/tensorflow_estimator/python/estimator/api/_v1/estimator/__init__.py:10: The name tf.estimator.inputs is deprecated. Please use tf.compat.v1.estimator.inputs instead.\n",
      "\n",
      "Using or importing the ABCs from 'collections' instead of from 'collections.abc' is deprecated, and in 3.8 it will stop working\n",
      "Using or importing the ABCs from 'collections' instead of from 'collections.abc' is deprecated, and in 3.8 it will stop working\n",
      "Using or importing the ABCs from 'collections' instead of from 'collections.abc' is deprecated, and in 3.8 it will stop working\n",
      "Cython              cite2c              langdetect          rmagic\n",
      "IPython             click               latex_envs          runJediLanguageServer\n",
      "PIL                 cliff               lazy_object_proxy   runpy\n",
      "PyICU               cmaes               lib2to3             s3transfer\n",
      "PyPDF2              cmake               libfuturize         sched\n",
      "__future__          cmath               libpasteurize       scikit_posthocs\n",
      "_abc                cmd                 linecache           scipy\n",
      "_ast                cmd2                llvmlite            seaborn\n",
      "_asyncio            code                locale              secrets\n",
      "_bisect             codecs              logging             select\n",
      "_blake2             codeop              lxml                selectors\n",
      "_bootlocale         collections         lzma                selenium\n",
      "_bz2                colorclass          macpath             send2trash\n",
      "_codecs             colorlog            mailbox             setuptools\n",
      "_codecs_cn          colorlover          mailcap             shap\n",
      "_codecs_hk          colorsys            mako                shell_exec\n",
      "_codecs_iso2022     compileall          markdown            shelve\n",
      "_codecs_jp          completion          markupsafe          shlex\n",
      "_codecs_kr          concurrent          marshal             shutil\n",
      "_codecs_tw          configparser        math                signal\n",
      "_collections        confuse             matplotlib          site\n",
      "_collections_abc    contextlib          mccabe              six\n",
      "_compat_pickle      contextvars         mglearn             sklearn\n",
      "_compression        copy                mimetypes           slugify\n",
      "_contextvars        copyreg             missingno           smart_open\n",
      "_crypt              crypt               mistune             smote\n",
      "_csv                csv                 mlxtend             smtpd\n",
      "_ctypes             ctypes              mmap                smtplib\n",
      "_ctypes_test        cufflinks           modulefinder        sndhdr\n",
      "_curses             curses              more_itertools      socket\n",
      "_curses_panel       cycler              morfessor           socketserver\n",
      "_datetime           cymem               multiprocessing     sortImports\n",
      "_dbm                cython              murmurhash          soupsieve\n",
      "_decimal            cythonmagic         nbconvert           spacy\n",
      "_dummy_thread       dataclasses         nbformat            sqlalchemy\n",
      "_elementtree        datetime            netrc               sqlite3\n",
      "_functools          dateutil            networkx            squarify\n",
      "_hashlib            dbm                 nis                 sre_compile\n",
      "_heapq              debugpy             nltk                sre_constants\n",
      "_icu                decimal             nntplib             sre_parse\n",
      "_imp                decorator           normalizeForInterpreter srsly\n",
      "_io                 defusedxml          notebook            ssl\n",
      "_json               difflib             ntpath              stat\n",
      "_locale             dis                 nturl2path          statistics\n",
      "_lsprof             distutils           numba               statsmodels\n",
      "_lzma               docs                numbers             stevedore\n",
      "_markupbase         doctest             numexpr             storemagic\n",
      "_md5                docutils            numpy               string\n",
      "_multibytecodec     dry_attr            opcode              stringprep\n",
      "_multiprocessing    dtaidistance        operator            struct\n",
      "_opcode             dummy_threading     optparse            subprocess\n",
      "_operator           easy_install        optuna              sunau\n",
      "_osx_support        editor              os                  symbol\n",
      "_pickle             eli5                packaging           symbolProvider\n",
      "_plotly_future_     email               pandas              sympyprinting\n",
      "_plotly_utils       en_core_web_sm      pandas_profiling    symtable\n",
      "_posixsubprocess    encodings           pandocfilters       sys\n",
      "_py_abc             ensurepip           parser              sysconfig\n",
      "_pydecimal          entrypoints         parso               syslog\n",
      "_pyio               enum                past                tabnanny\n",
      "_pyrsistent_version errno               pasta               tabulate\n",
      "_pytest             es_core_news_sm     pathlib             tangled_up_in_unicode\n",
      "_queue              examples            patsy               tarfile\n",
      "_random             fast_pagerank       pbr                 telnetlib\n",
      "_scproxy            faulthandler        pdb                 tempfile\n",
      "_sha1               fcntl               pexpect             tensorboard\n",
      "_sha256             filecmp             phik                tensorflow\n",
      "_sha3               fileinput           pickle              tensorflow_estimator\n",
      "_sha512             fitz                pickle_mixin        termcolor\n",
      "_signal             fnmatch             pickleshare         terminado\n",
      "_sitebuiltins       folium              pickletools         terminaltables\n",
      "_socket             formatter           pip                 termios\n",
      "_sqlite3            fractions           pip_check           test\n",
      "_sre                ftplib              pipes               testing_tools\n",
      "_ssl                functools           pkg_resources       testlauncher\n",
      "_stat               funcy               pkgutil             testpath\n",
      "_string             future              plac                tests\n",
      "_strptime           gast                plac_core           text_unidecode\n",
      "_struct             gc                  plac_ext            textwrap\n",
      "_symtable           genericpath         plac_tk             thinc\n",
      "_sysconfigdata_m_darwin_darwin gensim              platform            this\n",
      "_testbuffer         getopt              plistlib            threading\n",
      "_testcapi           getpass             plotly              time\n",
      "_testimportmultiple gettext             plotlywidget        timeit\n",
      "_testmultiphase     glob                pluggy              tkinter\n",
      "_thread             graphviz            polyglot            token\n",
      "_threading_local    grp                 poplib              tokenize\n",
      "_tkinter            grpc                posix               tornado\n",
      "_tracemalloc        gzip                posixpath           tqdm\n",
      "_uuid               h5py                pprint              trace\n",
      "_warnings           hashlib             preshed             traceback\n",
      "_weakref            heapq               prettytable         tracemalloc\n",
      "_weakrefset         hmac                printEnvVariables   traitlets\n",
      "_xxtestfuzz         html                printEnvVariablesToFile tty\n",
      "abc                 htmlmin             profile             turtle\n",
      "absl                http                prometheus_client   turtledemo\n",
      "aifc                icu                 prompt_toolkit      typed_ast\n",
      "alembic             idlelib             pstats              types\n",
      "antigravity         idna                pt_core_news_sm     typing\n",
      "appnope             imageio             pty                 unicodedata\n",
      "argparse            imaplib             ptyprocess          unittest\n",
      "array               imblearn            pvectorc            urllib\n",
      "ast                 imghdr              pwd                 urllib3\n",
      "astor               imp                 py                  uu\n",
      "astroid             importlib           pyLDAvis            uuid\n",
      "astropy             importlib_metadata  py_compile          vaderSentiment\n",
      "asynchat            inspect             pyclbr              venv\n",
      "asyncio             install_debugpy     pycld2              visions\n",
      "asyncore            interpreterInfo     pyclustering        visualstudio_py_testlauncher\n",
      "atexit              io                  pydoc               vscode_datascience_helpers\n",
      "atomicwrites        ipaddress           pydoc_data          warnings\n",
      "attr                ipykernel           pyexpat             wasabi\n",
      "audioop             ipykernel_launcher  pygls               wave\n",
      "autoreload          ipython_genutils    pygments            wcwidth\n",
      "backcall            ipywidgets          pylab               weakref\n",
      "base64              isort               pylint              webbrowser\n",
      "bdb                 itertools           pyls_jsonrpc        webencodings\n",
      "bin                 jedi                pyparsing           werkzeug\n",
      "binascii            jedi_language_server pyperclip           wheel\n",
      "binhex              jinja2              pyrsistent          widgetsnbextension\n",
      "bisect              jmespath            pytest              wordcloud\n",
      "bleach              joblib              pytest_pylint       wrapt\n",
      "blis                joypy               pytz                wsgiref\n",
      "boto                json                pyvsc-run-isolated  xdrlib\n",
      "boto3               jsonschema          pyximport           xgboost\n",
      "botocore            jupyter             queue               xlrd\n",
      "branca              jupyter_client      quopri              xlsxwriter\n",
      "bs4                 jupyter_contrib_core rake_nltk           xml\n",
      "builtins            jupyter_contrib_nbextensions random              xmlrpc\n",
      "bz2                 jupyter_core        rauth               xxlimited\n",
      "cProfile            jupyter_highlight_selected_word re                  xxsubtype\n",
      "calendar            jupyter_nbextensions_configurator readline            yaml\n",
      "category_encoders   kaggle              refactor            yellowbrick\n",
      "certifi             keras               regressors          zipapp\n",
      "cgi                 keras_applications  reprlib             zipfile\n",
      "cgitb               keras_preprocessing requests            zipimport\n",
      "chardet             keyword             resource            zipp\n",
      "chart_studio        kiwisolver          retrying            zlib\n",
      "chunk               kmodes              rlcompleter         zmq\n",
      "\n",
      "Enter any module name to get more help.  Or, type \"modules spam\" to search\n",
      "for modules whose name or summary contain the string \"spam\".\n",
      "\n"
     ]
    }
   ],
   "source": [
    "# You can check it programmaticly doing\n",
    "help(\"modules\")"
   ]
  },
  {
   "cell_type": "code",
   "execution_count": 7,
   "metadata": {},
   "outputs": [],
   "source": [
    "# Show in terminal how to install seaborn or to upgrade\n",
    "# pip3 install seaborn\n",
    "# pip3 install --upgrade seaborn"
   ]
  },
  {
   "cell_type": "code",
   "execution_count": 11,
   "metadata": {},
   "outputs": [],
   "source": [
    "# Let's see the example with the math package\n",
    "# Each package has its own documentation. For example the \"math\" package https://docs.python.org/3/library/math.html hmport math"
   ]
  },
  {
   "cell_type": "code",
   "execution_count": 14,
   "metadata": {},
   "outputs": [
    {
     "data": {
      "text/html": [
       "['__doc__', '__file__', '__loader__', '__name__', '__package__', '__spec__', 'acos', 'acosh', 'asin', 'asinh', 'atan', 'atan2', 'atanh', 'ceil', 'copysign', 'cos', 'cosh', 'degrees', 'e', 'erf', 'erfc', 'exp', 'expm1', 'fabs', 'factorial', 'floor', 'fmod', 'frexp', 'fsum', 'gamma', 'gcd', 'hypot', 'inf', 'isclose', 'isfinite', 'isinf', 'isnan', 'ldexp', 'lgamma', 'log', 'log10', 'log1p', 'log2', 'modf', 'nan', 'pi', 'pow', 'radians', 'remainder', 'sin', 'sinh', 'sqrt', 'tan', 'tanh', 'tau', 'trunc']"
      ],
      "text/plain": [
       "['__doc__',\n",
       " '__file__',\n",
       " '__loader__',\n",
       " '__name__',\n",
       " '__package__',\n",
       " '__spec__',\n",
       " 'acos',\n",
       " 'acosh',\n",
       " 'asin',\n",
       " 'asinh',\n",
       " 'atan',\n",
       " 'atan2',\n",
       " 'atanh',\n",
       " 'ceil',\n",
       " 'copysign',\n",
       " 'cos',\n",
       " 'cosh',\n",
       " 'degrees',\n",
       " 'e',\n",
       " 'erf',\n",
       " 'erfc',\n",
       " 'exp',\n",
       " 'expm1',\n",
       " 'fabs',\n",
       " 'factorial',\n",
       " 'floor',\n",
       " 'fmod',\n",
       " 'frexp',\n",
       " 'fsum',\n",
       " 'gamma',\n",
       " 'gcd',\n",
       " 'hypot',\n",
       " 'inf',\n",
       " 'isclose',\n",
       " 'isfinite',\n",
       " 'isinf',\n",
       " 'isnan',\n",
       " 'ldexp',\n",
       " 'lgamma',\n",
       " 'log',\n",
       " 'log10',\n",
       " 'log1p',\n",
       " 'log2',\n",
       " 'modf',\n",
       " 'nan',\n",
       " 'pi',\n",
       " 'pow',\n",
       " 'radians',\n",
       " 'remainder',\n",
       " 'sin',\n",
       " 'sinh',\n",
       " 'sqrt',\n",
       " 'tan',\n",
       " 'tanh',\n",
       " 'tau',\n",
       " 'trunc']"
      ]
     },
     "execution_count": 14,
     "metadata": {},
     "output_type": "execute_result"
    }
   ],
   "source": [
    "# Besides the documentation, the \"dir\" function can be used to check the attributes and methods available in the module\n",
    "dir(math)"
   ]
  },
  {
   "cell_type": "code",
   "execution_count": 17,
   "metadata": {},
   "outputs": [
    {
     "ename": "NameError",
     "evalue": "name 'sqrt' is not defined",
     "output_type": "error",
     "traceback": [
      "\u001b[0;31m---------------------------------------------------------------------------\u001b[0m",
      "\u001b[0;31mNameError\u001b[0m                                 Traceback (most recent call last)",
      "\u001b[0;32m<ipython-input-17-55856a18f3fd>\u001b[0m in \u001b[0;36m<module>\u001b[0;34m\u001b[0m\n\u001b[1;32m      1\u001b[0m \u001b[0;31m# For example, let's do a square root\u001b[0m\u001b[0;34m\u001b[0m\u001b[0;34m\u001b[0m\u001b[0;34m\u001b[0m\u001b[0m\n\u001b[0;32m----> 2\u001b[0;31m \u001b[0msqrt\u001b[0m\u001b[0;34m(\u001b[0m\u001b[0;36m9\u001b[0m\u001b[0;34m)\u001b[0m\u001b[0;34m\u001b[0m\u001b[0;34m\u001b[0m\u001b[0m\n\u001b[0m",
      "\u001b[0;31mNameError\u001b[0m: name 'sqrt' is not defined"
     ]
    }
   ],
   "source": [
    "# For example, let's do a square root\n",
    "sqrt(9)"
   ]
  },
  {
   "cell_type": "code",
   "execution_count": 18,
   "metadata": {},
   "outputs": [
    {
     "data": {
      "text/plain": [
       "3.0"
      ]
     },
     "execution_count": 18,
     "metadata": {},
     "output_type": "execute_result"
    }
   ],
   "source": [
    "# The Error is because there is no key or module name\n",
    "# Now let's add the module name in the beggining\n",
    "math.sqrt(9)"
   ]
  },
  {
   "cell_type": "code",
   "execution_count": null,
   "metadata": {},
   "outputs": [],
   "source": []
  }
 ],
 "metadata": {
  "kernelspec": {
   "display_name": "Python 3",
   "name": "python3"
  },
  "language_info": {
   "codemirror_mode": {
    "name": "ipython",
    "version": 3
   },
   "file_extension": ".py",
   "mimetype": "text/x-python",
   "name": "python",
   "nbconvert_exporter": "python",
   "pygments_lexer": "ipython3",
   "version": "3.7.4-final"
  },
  "orig_nbformat": 2
 },
 "nbformat": 4,
 "nbformat_minor": 2
}
