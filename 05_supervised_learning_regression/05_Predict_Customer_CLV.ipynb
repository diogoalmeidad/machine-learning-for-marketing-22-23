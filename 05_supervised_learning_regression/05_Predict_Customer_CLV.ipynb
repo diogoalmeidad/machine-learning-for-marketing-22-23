{
 "cells": [
  {
   "cell_type": "markdown",
   "metadata": {},
   "source": [
    "# Online Retailer: Predict Customer Lifetime Value\n",
    "### This notebooks uses the dataset *OnlineRetail.xlsx*\n",
    "\n",
    "This is a transnational data set which contains all the transactions occurring between 01/12/2010 and 09/12/2011 for a UK-based and registered non-store online retail.The company mainly sells unique all-occasion gifts. Many customers of the company are wholesalers.\n",
    "\n",
    "Objective: Predict CLV of each customer for September, October, and November of 2011.\n",
    "\n",
    "This notebook is an example. It does not show an exhaustive detail on all CRISP-DM phases.\n",
    "\n",
    "(c) 2020-2022 Nuno António - Rev. 1.01"
   ]
  },
  {
   "cell_type": "markdown",
   "metadata": {},
   "source": [
    "### Dataset description\n",
    "Public dataset available at http://archive.ics.uci.edu/ml/datasets/online+retail.<br>\n",
    "The dataset is composed of the following variables:<br>\n",
    "- **InvoiceNo**: Invoice number.\n",
    "- **StockCode**: Item code.\n",
    "- **Description**: Item description.\n",
    "- **Quantity**: Quantity bought.\n",
    "- **InvoiceDate**: Invoice issue date (sell date).\n",
    "- **Unit price**: Unit price.\n",
    "- **CustomerID**: Customer ID.\n",
    "- **Country**: Customer's country of origin. "
   ]
  },
  {
   "cell_type": "markdown",
   "metadata": {},
   "source": [
    "### Initial setup and modules/packages loading"
   ]
  },
  {
   "cell_type": "code",
   "execution_count": 1,
   "metadata": {},
   "outputs": [],
   "source": [
    "import os\n",
    "import csv\n",
    "import numpy as np\n",
    "import pandas as pd\n",
    "import matplotlib.pyplot as plt\n",
    "import seaborn as  sns\n",
    "import datetime\n",
    "from sklearn.preprocessing import MinMaxScaler\n",
    "from sklearn.model_selection import train_test_split\n",
    "from sklearn import metrics\n",
    "from sklearn.neural_network import MLPRegressor\n",
    "from yellowbrick.model_selection import LearningCurve\n",
    "from yellowbrick.regressor import PredictionError\n",
    "\n",
    "#to plot in notebook\n",
    "%matplotlib inline"
   ]
  },
  {
   "cell_type": "markdown",
   "metadata": {},
   "source": [
    "### Data understanding"
   ]
  },
  {
   "cell_type": "code",
   "execution_count": 2,
   "metadata": {},
   "outputs": [
    {
     "name": "stdout",
     "output_type": "stream",
     "text": [
      "<class 'pandas.core.frame.DataFrame'>\n",
      "RangeIndex: 541909 entries, 0 to 541908\n",
      "Data columns (total 8 columns):\n",
      " #   Column       Non-Null Count   Dtype         \n",
      "---  ------       --------------   -----         \n",
      " 0   InvoiceNo    541909 non-null  object        \n",
      " 1   StockCode    541909 non-null  object        \n",
      " 2   Description  540455 non-null  object        \n",
      " 3   Quantity     541909 non-null  int64         \n",
      " 4   InvoiceDate  541909 non-null  datetime64[ns]\n",
      " 5   UnitPrice    541909 non-null  float64       \n",
      " 6   CustomerID   406829 non-null  float64       \n",
      " 7   Country      541909 non-null  object        \n",
      "dtypes: datetime64[ns](1), float64(2), int64(1), object(4)\n",
      "memory usage: 33.1+ MB\n"
     ]
    }
   ],
   "source": [
    "# Load data (EXCEL not CSV format)\n",
    "ds = pd.read_excel('OnlineRetail.xlsx', sheet_name='Online Retail',engine='openpyxl')\n",
    "ds.info()"
   ]
  },
  {
   "cell_type": "markdown",
   "metadata": {},
   "source": [
    "There is no column with the invoice line total"
   ]
  },
  {
   "cell_type": "code",
   "execution_count": 3,
   "metadata": {},
   "outputs": [
    {
     "data": {
      "text/html": [
       "<div>\n",
       "<style scoped>\n",
       "    .dataframe tbody tr th:only-of-type {\n",
       "        vertical-align: middle;\n",
       "    }\n",
       "\n",
       "    .dataframe tbody tr th {\n",
       "        vertical-align: top;\n",
       "    }\n",
       "\n",
       "    .dataframe thead th {\n",
       "        text-align: right;\n",
       "    }\n",
       "</style>\n",
       "<table border=\"1\" class=\"dataframe\">\n",
       "  <thead>\n",
       "    <tr style=\"text-align: right;\">\n",
       "      <th></th>\n",
       "      <th>InvoiceNo</th>\n",
       "      <th>StockCode</th>\n",
       "      <th>Description</th>\n",
       "      <th>Quantity</th>\n",
       "      <th>InvoiceDate</th>\n",
       "      <th>UnitPrice</th>\n",
       "      <th>CustomerID</th>\n",
       "      <th>Country</th>\n",
       "    </tr>\n",
       "  </thead>\n",
       "  <tbody>\n",
       "    <tr>\n",
       "      <th>0</th>\n",
       "      <td>536365</td>\n",
       "      <td>85123A</td>\n",
       "      <td>WHITE HANGING HEART T-LIGHT HOLDER</td>\n",
       "      <td>6</td>\n",
       "      <td>2010-12-01 08:26:00</td>\n",
       "      <td>2.55</td>\n",
       "      <td>17850.0</td>\n",
       "      <td>United Kingdom</td>\n",
       "    </tr>\n",
       "    <tr>\n",
       "      <th>1</th>\n",
       "      <td>536365</td>\n",
       "      <td>71053</td>\n",
       "      <td>WHITE METAL LANTERN</td>\n",
       "      <td>6</td>\n",
       "      <td>2010-12-01 08:26:00</td>\n",
       "      <td>3.39</td>\n",
       "      <td>17850.0</td>\n",
       "      <td>United Kingdom</td>\n",
       "    </tr>\n",
       "    <tr>\n",
       "      <th>2</th>\n",
       "      <td>536365</td>\n",
       "      <td>84406B</td>\n",
       "      <td>CREAM CUPID HEARTS COAT HANGER</td>\n",
       "      <td>8</td>\n",
       "      <td>2010-12-01 08:26:00</td>\n",
       "      <td>2.75</td>\n",
       "      <td>17850.0</td>\n",
       "      <td>United Kingdom</td>\n",
       "    </tr>\n",
       "    <tr>\n",
       "      <th>3</th>\n",
       "      <td>536365</td>\n",
       "      <td>84029G</td>\n",
       "      <td>KNITTED UNION FLAG HOT WATER BOTTLE</td>\n",
       "      <td>6</td>\n",
       "      <td>2010-12-01 08:26:00</td>\n",
       "      <td>3.39</td>\n",
       "      <td>17850.0</td>\n",
       "      <td>United Kingdom</td>\n",
       "    </tr>\n",
       "    <tr>\n",
       "      <th>4</th>\n",
       "      <td>536365</td>\n",
       "      <td>84029E</td>\n",
       "      <td>RED WOOLLY HOTTIE WHITE HEART.</td>\n",
       "      <td>6</td>\n",
       "      <td>2010-12-01 08:26:00</td>\n",
       "      <td>3.39</td>\n",
       "      <td>17850.0</td>\n",
       "      <td>United Kingdom</td>\n",
       "    </tr>\n",
       "    <tr>\n",
       "      <th>5</th>\n",
       "      <td>536365</td>\n",
       "      <td>22752</td>\n",
       "      <td>SET 7 BABUSHKA NESTING BOXES</td>\n",
       "      <td>2</td>\n",
       "      <td>2010-12-01 08:26:00</td>\n",
       "      <td>7.65</td>\n",
       "      <td>17850.0</td>\n",
       "      <td>United Kingdom</td>\n",
       "    </tr>\n",
       "    <tr>\n",
       "      <th>6</th>\n",
       "      <td>536365</td>\n",
       "      <td>21730</td>\n",
       "      <td>GLASS STAR FROSTED T-LIGHT HOLDER</td>\n",
       "      <td>6</td>\n",
       "      <td>2010-12-01 08:26:00</td>\n",
       "      <td>4.25</td>\n",
       "      <td>17850.0</td>\n",
       "      <td>United Kingdom</td>\n",
       "    </tr>\n",
       "    <tr>\n",
       "      <th>7</th>\n",
       "      <td>536366</td>\n",
       "      <td>22633</td>\n",
       "      <td>HAND WARMER UNION JACK</td>\n",
       "      <td>6</td>\n",
       "      <td>2010-12-01 08:28:00</td>\n",
       "      <td>1.85</td>\n",
       "      <td>17850.0</td>\n",
       "      <td>United Kingdom</td>\n",
       "    </tr>\n",
       "    <tr>\n",
       "      <th>8</th>\n",
       "      <td>536366</td>\n",
       "      <td>22632</td>\n",
       "      <td>HAND WARMER RED POLKA DOT</td>\n",
       "      <td>6</td>\n",
       "      <td>2010-12-01 08:28:00</td>\n",
       "      <td>1.85</td>\n",
       "      <td>17850.0</td>\n",
       "      <td>United Kingdom</td>\n",
       "    </tr>\n",
       "    <tr>\n",
       "      <th>9</th>\n",
       "      <td>536367</td>\n",
       "      <td>84879</td>\n",
       "      <td>ASSORTED COLOUR BIRD ORNAMENT</td>\n",
       "      <td>32</td>\n",
       "      <td>2010-12-01 08:34:00</td>\n",
       "      <td>1.69</td>\n",
       "      <td>13047.0</td>\n",
       "      <td>United Kingdom</td>\n",
       "    </tr>\n",
       "    <tr>\n",
       "      <th>10</th>\n",
       "      <td>536367</td>\n",
       "      <td>22745</td>\n",
       "      <td>POPPY'S PLAYHOUSE BEDROOM</td>\n",
       "      <td>6</td>\n",
       "      <td>2010-12-01 08:34:00</td>\n",
       "      <td>2.10</td>\n",
       "      <td>13047.0</td>\n",
       "      <td>United Kingdom</td>\n",
       "    </tr>\n",
       "    <tr>\n",
       "      <th>11</th>\n",
       "      <td>536367</td>\n",
       "      <td>22748</td>\n",
       "      <td>POPPY'S PLAYHOUSE KITCHEN</td>\n",
       "      <td>6</td>\n",
       "      <td>2010-12-01 08:34:00</td>\n",
       "      <td>2.10</td>\n",
       "      <td>13047.0</td>\n",
       "      <td>United Kingdom</td>\n",
       "    </tr>\n",
       "    <tr>\n",
       "      <th>12</th>\n",
       "      <td>536367</td>\n",
       "      <td>22749</td>\n",
       "      <td>FELTCRAFT PRINCESS CHARLOTTE DOLL</td>\n",
       "      <td>8</td>\n",
       "      <td>2010-12-01 08:34:00</td>\n",
       "      <td>3.75</td>\n",
       "      <td>13047.0</td>\n",
       "      <td>United Kingdom</td>\n",
       "    </tr>\n",
       "    <tr>\n",
       "      <th>13</th>\n",
       "      <td>536367</td>\n",
       "      <td>22310</td>\n",
       "      <td>IVORY KNITTED MUG COSY</td>\n",
       "      <td>6</td>\n",
       "      <td>2010-12-01 08:34:00</td>\n",
       "      <td>1.65</td>\n",
       "      <td>13047.0</td>\n",
       "      <td>United Kingdom</td>\n",
       "    </tr>\n",
       "    <tr>\n",
       "      <th>14</th>\n",
       "      <td>536367</td>\n",
       "      <td>84969</td>\n",
       "      <td>BOX OF 6 ASSORTED COLOUR TEASPOONS</td>\n",
       "      <td>6</td>\n",
       "      <td>2010-12-01 08:34:00</td>\n",
       "      <td>4.25</td>\n",
       "      <td>13047.0</td>\n",
       "      <td>United Kingdom</td>\n",
       "    </tr>\n",
       "  </tbody>\n",
       "</table>\n",
       "</div>"
      ],
      "text/plain": [
       "   InvoiceNo StockCode                          Description  Quantity  \\\n",
       "0     536365    85123A   WHITE HANGING HEART T-LIGHT HOLDER         6   \n",
       "1     536365     71053                  WHITE METAL LANTERN         6   \n",
       "2     536365    84406B       CREAM CUPID HEARTS COAT HANGER         8   \n",
       "3     536365    84029G  KNITTED UNION FLAG HOT WATER BOTTLE         6   \n",
       "4     536365    84029E       RED WOOLLY HOTTIE WHITE HEART.         6   \n",
       "5     536365     22752         SET 7 BABUSHKA NESTING BOXES         2   \n",
       "6     536365     21730    GLASS STAR FROSTED T-LIGHT HOLDER         6   \n",
       "7     536366     22633               HAND WARMER UNION JACK         6   \n",
       "8     536366     22632            HAND WARMER RED POLKA DOT         6   \n",
       "9     536367     84879        ASSORTED COLOUR BIRD ORNAMENT        32   \n",
       "10    536367     22745           POPPY'S PLAYHOUSE BEDROOM          6   \n",
       "11    536367     22748            POPPY'S PLAYHOUSE KITCHEN         6   \n",
       "12    536367     22749    FELTCRAFT PRINCESS CHARLOTTE DOLL         8   \n",
       "13    536367     22310              IVORY KNITTED MUG COSY          6   \n",
       "14    536367     84969   BOX OF 6 ASSORTED COLOUR TEASPOONS         6   \n",
       "\n",
       "           InvoiceDate  UnitPrice  CustomerID         Country  \n",
       "0  2010-12-01 08:26:00       2.55     17850.0  United Kingdom  \n",
       "1  2010-12-01 08:26:00       3.39     17850.0  United Kingdom  \n",
       "2  2010-12-01 08:26:00       2.75     17850.0  United Kingdom  \n",
       "3  2010-12-01 08:26:00       3.39     17850.0  United Kingdom  \n",
       "4  2010-12-01 08:26:00       3.39     17850.0  United Kingdom  \n",
       "5  2010-12-01 08:26:00       7.65     17850.0  United Kingdom  \n",
       "6  2010-12-01 08:26:00       4.25     17850.0  United Kingdom  \n",
       "7  2010-12-01 08:28:00       1.85     17850.0  United Kingdom  \n",
       "8  2010-12-01 08:28:00       1.85     17850.0  United Kingdom  \n",
       "9  2010-12-01 08:34:00       1.69     13047.0  United Kingdom  \n",
       "10 2010-12-01 08:34:00       2.10     13047.0  United Kingdom  \n",
       "11 2010-12-01 08:34:00       2.10     13047.0  United Kingdom  \n",
       "12 2010-12-01 08:34:00       3.75     13047.0  United Kingdom  \n",
       "13 2010-12-01 08:34:00       1.65     13047.0  United Kingdom  \n",
       "14 2010-12-01 08:34:00       4.25     13047.0  United Kingdom  "
      ]
     },
     "execution_count": 3,
     "metadata": {},
     "output_type": "execute_result"
    }
   ],
   "source": [
    "# Display top 15 rows\n",
    "ds.head(15)"
   ]
  },
  {
   "cell_type": "code",
   "execution_count": 4,
   "metadata": {},
   "outputs": [
    {
     "name": "stderr",
     "output_type": "stream",
     "text": [
      "<ipython-input-4-c994b14a6a5c>:2: FutureWarning: Treating datetime data as categorical rather than numeric in `.describe` is deprecated and will be removed in a future version of pandas. Specify `datetime_is_numeric=True` to silence this warning and adopt the future behavior now.\n",
      "  ds.describe(include='all').T\n"
     ]
    },
    {
     "data": {
      "text/html": [
       "<div>\n",
       "<style scoped>\n",
       "    .dataframe tbody tr th:only-of-type {\n",
       "        vertical-align: middle;\n",
       "    }\n",
       "\n",
       "    .dataframe tbody tr th {\n",
       "        vertical-align: top;\n",
       "    }\n",
       "\n",
       "    .dataframe thead th {\n",
       "        text-align: right;\n",
       "    }\n",
       "</style>\n",
       "<table border=\"1\" class=\"dataframe\">\n",
       "  <thead>\n",
       "    <tr style=\"text-align: right;\">\n",
       "      <th></th>\n",
       "      <th>count</th>\n",
       "      <th>unique</th>\n",
       "      <th>top</th>\n",
       "      <th>freq</th>\n",
       "      <th>first</th>\n",
       "      <th>last</th>\n",
       "      <th>mean</th>\n",
       "      <th>std</th>\n",
       "      <th>min</th>\n",
       "      <th>25%</th>\n",
       "      <th>50%</th>\n",
       "      <th>75%</th>\n",
       "      <th>max</th>\n",
       "    </tr>\n",
       "  </thead>\n",
       "  <tbody>\n",
       "    <tr>\n",
       "      <th>InvoiceNo</th>\n",
       "      <td>541909</td>\n",
       "      <td>25900</td>\n",
       "      <td>573585</td>\n",
       "      <td>1114</td>\n",
       "      <td>NaT</td>\n",
       "      <td>NaT</td>\n",
       "      <td>NaN</td>\n",
       "      <td>NaN</td>\n",
       "      <td>NaN</td>\n",
       "      <td>NaN</td>\n",
       "      <td>NaN</td>\n",
       "      <td>NaN</td>\n",
       "      <td>NaN</td>\n",
       "    </tr>\n",
       "    <tr>\n",
       "      <th>StockCode</th>\n",
       "      <td>541909</td>\n",
       "      <td>4070</td>\n",
       "      <td>85123A</td>\n",
       "      <td>2313</td>\n",
       "      <td>NaT</td>\n",
       "      <td>NaT</td>\n",
       "      <td>NaN</td>\n",
       "      <td>NaN</td>\n",
       "      <td>NaN</td>\n",
       "      <td>NaN</td>\n",
       "      <td>NaN</td>\n",
       "      <td>NaN</td>\n",
       "      <td>NaN</td>\n",
       "    </tr>\n",
       "    <tr>\n",
       "      <th>Description</th>\n",
       "      <td>540455</td>\n",
       "      <td>4223</td>\n",
       "      <td>WHITE HANGING HEART T-LIGHT HOLDER</td>\n",
       "      <td>2369</td>\n",
       "      <td>NaT</td>\n",
       "      <td>NaT</td>\n",
       "      <td>NaN</td>\n",
       "      <td>NaN</td>\n",
       "      <td>NaN</td>\n",
       "      <td>NaN</td>\n",
       "      <td>NaN</td>\n",
       "      <td>NaN</td>\n",
       "      <td>NaN</td>\n",
       "    </tr>\n",
       "    <tr>\n",
       "      <th>Quantity</th>\n",
       "      <td>541909</td>\n",
       "      <td>NaN</td>\n",
       "      <td>NaN</td>\n",
       "      <td>NaN</td>\n",
       "      <td>NaT</td>\n",
       "      <td>NaT</td>\n",
       "      <td>9.55225</td>\n",
       "      <td>218.081</td>\n",
       "      <td>-80995</td>\n",
       "      <td>1</td>\n",
       "      <td>3</td>\n",
       "      <td>10</td>\n",
       "      <td>80995</td>\n",
       "    </tr>\n",
       "    <tr>\n",
       "      <th>InvoiceDate</th>\n",
       "      <td>541909</td>\n",
       "      <td>23260</td>\n",
       "      <td>2011-10-31 14:41:00</td>\n",
       "      <td>1114</td>\n",
       "      <td>2010-12-01 08:26:00</td>\n",
       "      <td>2011-12-09 12:50:00</td>\n",
       "      <td>NaN</td>\n",
       "      <td>NaN</td>\n",
       "      <td>NaN</td>\n",
       "      <td>NaN</td>\n",
       "      <td>NaN</td>\n",
       "      <td>NaN</td>\n",
       "      <td>NaN</td>\n",
       "    </tr>\n",
       "    <tr>\n",
       "      <th>UnitPrice</th>\n",
       "      <td>541909</td>\n",
       "      <td>NaN</td>\n",
       "      <td>NaN</td>\n",
       "      <td>NaN</td>\n",
       "      <td>NaT</td>\n",
       "      <td>NaT</td>\n",
       "      <td>4.61111</td>\n",
       "      <td>96.7599</td>\n",
       "      <td>-11062.1</td>\n",
       "      <td>1.25</td>\n",
       "      <td>2.08</td>\n",
       "      <td>4.13</td>\n",
       "      <td>38970</td>\n",
       "    </tr>\n",
       "    <tr>\n",
       "      <th>CustomerID</th>\n",
       "      <td>406829</td>\n",
       "      <td>NaN</td>\n",
       "      <td>NaN</td>\n",
       "      <td>NaN</td>\n",
       "      <td>NaT</td>\n",
       "      <td>NaT</td>\n",
       "      <td>15287.7</td>\n",
       "      <td>1713.6</td>\n",
       "      <td>12346</td>\n",
       "      <td>13953</td>\n",
       "      <td>15152</td>\n",
       "      <td>16791</td>\n",
       "      <td>18287</td>\n",
       "    </tr>\n",
       "    <tr>\n",
       "      <th>Country</th>\n",
       "      <td>541909</td>\n",
       "      <td>38</td>\n",
       "      <td>United Kingdom</td>\n",
       "      <td>495478</td>\n",
       "      <td>NaT</td>\n",
       "      <td>NaT</td>\n",
       "      <td>NaN</td>\n",
       "      <td>NaN</td>\n",
       "      <td>NaN</td>\n",
       "      <td>NaN</td>\n",
       "      <td>NaN</td>\n",
       "      <td>NaN</td>\n",
       "      <td>NaN</td>\n",
       "    </tr>\n",
       "  </tbody>\n",
       "</table>\n",
       "</div>"
      ],
      "text/plain": [
       "              count unique                                 top    freq  \\\n",
       "InvoiceNo    541909  25900                              573585    1114   \n",
       "StockCode    541909   4070                              85123A    2313   \n",
       "Description  540455   4223  WHITE HANGING HEART T-LIGHT HOLDER    2369   \n",
       "Quantity     541909    NaN                                 NaN     NaN   \n",
       "InvoiceDate  541909  23260                 2011-10-31 14:41:00    1114   \n",
       "UnitPrice    541909    NaN                                 NaN     NaN   \n",
       "CustomerID   406829    NaN                                 NaN     NaN   \n",
       "Country      541909     38                      United Kingdom  495478   \n",
       "\n",
       "                          first                last     mean      std  \\\n",
       "InvoiceNo                   NaT                 NaT      NaN      NaN   \n",
       "StockCode                   NaT                 NaT      NaN      NaN   \n",
       "Description                 NaT                 NaT      NaN      NaN   \n",
       "Quantity                    NaT                 NaT  9.55225  218.081   \n",
       "InvoiceDate 2010-12-01 08:26:00 2011-12-09 12:50:00      NaN      NaN   \n",
       "UnitPrice                   NaT                 NaT  4.61111  96.7599   \n",
       "CustomerID                  NaT                 NaT  15287.7   1713.6   \n",
       "Country                     NaT                 NaT      NaN      NaN   \n",
       "\n",
       "                 min    25%    50%    75%    max  \n",
       "InvoiceNo        NaN    NaN    NaN    NaN    NaN  \n",
       "StockCode        NaN    NaN    NaN    NaN    NaN  \n",
       "Description      NaN    NaN    NaN    NaN    NaN  \n",
       "Quantity      -80995      1      3     10  80995  \n",
       "InvoiceDate      NaN    NaN    NaN    NaN    NaN  \n",
       "UnitPrice   -11062.1   1.25   2.08   4.13  38970  \n",
       "CustomerID     12346  13953  15152  16791  18287  \n",
       "Country          NaN    NaN    NaN    NaN    NaN  "
      ]
     },
     "execution_count": 4,
     "metadata": {},
     "output_type": "execute_result"
    }
   ],
   "source": [
    "# Summary statistics for all variables\n",
    "ds.describe(include='all').T"
   ]
  },
  {
   "cell_type": "markdown",
   "metadata": {},
   "source": [
    "#### Summary statistis analysis:\n",
    "- **CustomerID** was identified as a numerical column, but it's a categorical one\n",
    "- **Quantity** and **UnitPrice** show negative minimums. Are these outliers or just incorrect values?\n",
    "- **InvoiceDate** shows that data is not completed for December 2011"
   ]
  },
  {
   "cell_type": "code",
   "execution_count": 5,
   "metadata": {},
   "outputs": [],
   "source": [
    "# Transform CustomerID to categorical\n",
    "ds['CustomerID'] = ds['CustomerID'].astype('category')"
   ]
  },
  {
   "cell_type": "code",
   "execution_count": 6,
   "metadata": {},
   "outputs": [],
   "source": [
    "# Create a column with the total per invoice line\n",
    "ds['Total'] = ds['Quantity']*ds['UnitPrice']"
   ]
  },
  {
   "cell_type": "code",
   "execution_count": 7,
   "metadata": {},
   "outputs": [
    {
     "name": "stderr",
     "output_type": "stream",
     "text": [
      "<ipython-input-7-8da0a7bb6e1f>:2: FutureWarning: Treating datetime data as categorical rather than numeric in `.describe` is deprecated and will be removed in a future version of pandas. Specify `datetime_is_numeric=True` to silence this warning and adopt the future behavior now.\n",
      "  ds.describe(include='all').T\n"
     ]
    },
    {
     "data": {
      "text/html": [
       "<div>\n",
       "<style scoped>\n",
       "    .dataframe tbody tr th:only-of-type {\n",
       "        vertical-align: middle;\n",
       "    }\n",
       "\n",
       "    .dataframe tbody tr th {\n",
       "        vertical-align: top;\n",
       "    }\n",
       "\n",
       "    .dataframe thead th {\n",
       "        text-align: right;\n",
       "    }\n",
       "</style>\n",
       "<table border=\"1\" class=\"dataframe\">\n",
       "  <thead>\n",
       "    <tr style=\"text-align: right;\">\n",
       "      <th></th>\n",
       "      <th>count</th>\n",
       "      <th>unique</th>\n",
       "      <th>top</th>\n",
       "      <th>freq</th>\n",
       "      <th>first</th>\n",
       "      <th>last</th>\n",
       "      <th>mean</th>\n",
       "      <th>std</th>\n",
       "      <th>min</th>\n",
       "      <th>25%</th>\n",
       "      <th>50%</th>\n",
       "      <th>75%</th>\n",
       "      <th>max</th>\n",
       "    </tr>\n",
       "  </thead>\n",
       "  <tbody>\n",
       "    <tr>\n",
       "      <th>InvoiceNo</th>\n",
       "      <td>541909</td>\n",
       "      <td>25900</td>\n",
       "      <td>573585</td>\n",
       "      <td>1114</td>\n",
       "      <td>NaT</td>\n",
       "      <td>NaT</td>\n",
       "      <td>NaN</td>\n",
       "      <td>NaN</td>\n",
       "      <td>NaN</td>\n",
       "      <td>NaN</td>\n",
       "      <td>NaN</td>\n",
       "      <td>NaN</td>\n",
       "      <td>NaN</td>\n",
       "    </tr>\n",
       "    <tr>\n",
       "      <th>StockCode</th>\n",
       "      <td>541909</td>\n",
       "      <td>4070</td>\n",
       "      <td>85123A</td>\n",
       "      <td>2313</td>\n",
       "      <td>NaT</td>\n",
       "      <td>NaT</td>\n",
       "      <td>NaN</td>\n",
       "      <td>NaN</td>\n",
       "      <td>NaN</td>\n",
       "      <td>NaN</td>\n",
       "      <td>NaN</td>\n",
       "      <td>NaN</td>\n",
       "      <td>NaN</td>\n",
       "    </tr>\n",
       "    <tr>\n",
       "      <th>Description</th>\n",
       "      <td>540455</td>\n",
       "      <td>4223</td>\n",
       "      <td>WHITE HANGING HEART T-LIGHT HOLDER</td>\n",
       "      <td>2369</td>\n",
       "      <td>NaT</td>\n",
       "      <td>NaT</td>\n",
       "      <td>NaN</td>\n",
       "      <td>NaN</td>\n",
       "      <td>NaN</td>\n",
       "      <td>NaN</td>\n",
       "      <td>NaN</td>\n",
       "      <td>NaN</td>\n",
       "      <td>NaN</td>\n",
       "    </tr>\n",
       "    <tr>\n",
       "      <th>Quantity</th>\n",
       "      <td>541909</td>\n",
       "      <td>NaN</td>\n",
       "      <td>NaN</td>\n",
       "      <td>NaN</td>\n",
       "      <td>NaT</td>\n",
       "      <td>NaT</td>\n",
       "      <td>9.55225</td>\n",
       "      <td>218.081</td>\n",
       "      <td>-80995</td>\n",
       "      <td>1</td>\n",
       "      <td>3</td>\n",
       "      <td>10</td>\n",
       "      <td>80995</td>\n",
       "    </tr>\n",
       "    <tr>\n",
       "      <th>InvoiceDate</th>\n",
       "      <td>541909</td>\n",
       "      <td>23260</td>\n",
       "      <td>2011-10-31 14:41:00</td>\n",
       "      <td>1114</td>\n",
       "      <td>2010-12-01 08:26:00</td>\n",
       "      <td>2011-12-09 12:50:00</td>\n",
       "      <td>NaN</td>\n",
       "      <td>NaN</td>\n",
       "      <td>NaN</td>\n",
       "      <td>NaN</td>\n",
       "      <td>NaN</td>\n",
       "      <td>NaN</td>\n",
       "      <td>NaN</td>\n",
       "    </tr>\n",
       "    <tr>\n",
       "      <th>UnitPrice</th>\n",
       "      <td>541909</td>\n",
       "      <td>NaN</td>\n",
       "      <td>NaN</td>\n",
       "      <td>NaN</td>\n",
       "      <td>NaT</td>\n",
       "      <td>NaT</td>\n",
       "      <td>4.61111</td>\n",
       "      <td>96.7599</td>\n",
       "      <td>-11062.1</td>\n",
       "      <td>1.25</td>\n",
       "      <td>2.08</td>\n",
       "      <td>4.13</td>\n",
       "      <td>38970</td>\n",
       "    </tr>\n",
       "    <tr>\n",
       "      <th>CustomerID</th>\n",
       "      <td>406829</td>\n",
       "      <td>4372</td>\n",
       "      <td>17841</td>\n",
       "      <td>7983</td>\n",
       "      <td>NaT</td>\n",
       "      <td>NaT</td>\n",
       "      <td>NaN</td>\n",
       "      <td>NaN</td>\n",
       "      <td>NaN</td>\n",
       "      <td>NaN</td>\n",
       "      <td>NaN</td>\n",
       "      <td>NaN</td>\n",
       "      <td>NaN</td>\n",
       "    </tr>\n",
       "    <tr>\n",
       "      <th>Country</th>\n",
       "      <td>541909</td>\n",
       "      <td>38</td>\n",
       "      <td>United Kingdom</td>\n",
       "      <td>495478</td>\n",
       "      <td>NaT</td>\n",
       "      <td>NaT</td>\n",
       "      <td>NaN</td>\n",
       "      <td>NaN</td>\n",
       "      <td>NaN</td>\n",
       "      <td>NaN</td>\n",
       "      <td>NaN</td>\n",
       "      <td>NaN</td>\n",
       "      <td>NaN</td>\n",
       "    </tr>\n",
       "    <tr>\n",
       "      <th>Total</th>\n",
       "      <td>541909</td>\n",
       "      <td>NaN</td>\n",
       "      <td>NaN</td>\n",
       "      <td>NaN</td>\n",
       "      <td>NaT</td>\n",
       "      <td>NaT</td>\n",
       "      <td>17.9878</td>\n",
       "      <td>378.811</td>\n",
       "      <td>-168470</td>\n",
       "      <td>3.4</td>\n",
       "      <td>9.75</td>\n",
       "      <td>17.4</td>\n",
       "      <td>168470</td>\n",
       "    </tr>\n",
       "  </tbody>\n",
       "</table>\n",
       "</div>"
      ],
      "text/plain": [
       "              count unique                                 top    freq  \\\n",
       "InvoiceNo    541909  25900                              573585    1114   \n",
       "StockCode    541909   4070                              85123A    2313   \n",
       "Description  540455   4223  WHITE HANGING HEART T-LIGHT HOLDER    2369   \n",
       "Quantity     541909    NaN                                 NaN     NaN   \n",
       "InvoiceDate  541909  23260                 2011-10-31 14:41:00    1114   \n",
       "UnitPrice    541909    NaN                                 NaN     NaN   \n",
       "CustomerID   406829   4372                               17841    7983   \n",
       "Country      541909     38                      United Kingdom  495478   \n",
       "Total        541909    NaN                                 NaN     NaN   \n",
       "\n",
       "                          first                last     mean      std  \\\n",
       "InvoiceNo                   NaT                 NaT      NaN      NaN   \n",
       "StockCode                   NaT                 NaT      NaN      NaN   \n",
       "Description                 NaT                 NaT      NaN      NaN   \n",
       "Quantity                    NaT                 NaT  9.55225  218.081   \n",
       "InvoiceDate 2010-12-01 08:26:00 2011-12-09 12:50:00      NaN      NaN   \n",
       "UnitPrice                   NaT                 NaT  4.61111  96.7599   \n",
       "CustomerID                  NaT                 NaT      NaN      NaN   \n",
       "Country                     NaT                 NaT      NaN      NaN   \n",
       "Total                       NaT                 NaT  17.9878  378.811   \n",
       "\n",
       "                 min   25%   50%   75%     max  \n",
       "InvoiceNo        NaN   NaN   NaN   NaN     NaN  \n",
       "StockCode        NaN   NaN   NaN   NaN     NaN  \n",
       "Description      NaN   NaN   NaN   NaN     NaN  \n",
       "Quantity      -80995     1     3    10   80995  \n",
       "InvoiceDate      NaN   NaN   NaN   NaN     NaN  \n",
       "UnitPrice   -11062.1  1.25  2.08  4.13   38970  \n",
       "CustomerID       NaN   NaN   NaN   NaN     NaN  \n",
       "Country          NaN   NaN   NaN   NaN     NaN  \n",
       "Total        -168470   3.4  9.75  17.4  168470  "
      ]
     },
     "execution_count": 7,
     "metadata": {},
     "output_type": "execute_result"
    }
   ],
   "source": [
    "# Do a new summary statistics for all variables\n",
    "ds.describe(include='all').T"
   ]
  },
  {
   "cell_type": "markdown",
   "metadata": {},
   "source": [
    "Atention!! There are many lines without **CustomerID**"
   ]
  },
  {
   "cell_type": "code",
   "execution_count": 8,
   "metadata": {},
   "outputs": [
    {
     "data": {
      "text/plain": [
       "<AxesSubplot:xlabel='Country'>"
      ]
     },
     "execution_count": 8,
     "metadata": {},
     "output_type": "execute_result"
    },
    {
     "data": {
      "image/png": "[encoded data removed]",
      "text/plain": [
       "<Figure size 576x432 with 1 Axes>"
      ]
     },
     "metadata": {
      "needs_background": "light"
     },
     "output_type": "display_data"
    }
   ],
   "source": [
    "# Plot sales per country\n",
    "fig, ax = plt.subplots(figsize=(8, 6))\n",
    "ds.groupby('Country').Total.sum().plot(kind='bar', ax=ax)"
   ]
  },
  {
   "cell_type": "code",
   "execution_count": 9,
   "metadata": {},
   "outputs": [
    {
     "data": {
      "text/plain": [
       "373"
      ]
     },
     "execution_count": 9,
     "metadata": {},
     "output_type": "execute_result"
    }
   ],
   "source": [
    "# Calculate number of days in period\n",
    "daysInPeriod = (ds.InvoiceDate.max() - ds.InvoiceDate.min()).days\n",
    "daysInPeriod"
   ]
  },
  {
   "cell_type": "markdown",
   "metadata": {},
   "source": [
    "#### Aggregate data by customer for RFM analysis (Recency, Frequency, Monetary Value)"
   ]
  },
  {
   "cell_type": "code",
   "execution_count": 10,
   "metadata": {},
   "outputs": [],
   "source": [
    "# Drop columns not necessary for this exercise\n",
    "ds.drop(columns=['StockCode','Description'], inplace=True)"
   ]
  },
  {
   "cell_type": "code",
   "execution_count": 11,
   "metadata": {},
   "outputs": [],
   "source": [
    "# Remove incomplete month data\n",
    "ds = ds[ds['InvoiceDate'] < '2011-12-01']"
   ]
  },
  {
   "cell_type": "code",
   "execution_count": 12,
   "metadata": {},
   "outputs": [],
   "source": [
    "# Remove rows with negative negative quantities or price\n",
    "ds = ds[(ds.Quantity>0) & (ds.UnitPrice>0)]"
   ]
  },
  {
   "cell_type": "code",
   "execution_count": 13,
   "metadata": {},
   "outputs": [],
   "source": [
    "# Remove rows without CustomerID\n",
    "ds = ds[pd.notnull(ds['CustomerID'])]"
   ]
  },
  {
   "cell_type": "code",
   "execution_count": 14,
   "metadata": {},
   "outputs": [],
   "source": [
    "# Compute totals per customer\n",
    "dateMax = ds.InvoiceDate.max()\n",
    "X = ds.groupby(['CustomerID']).agg({'InvoiceDate': [lambda date: (date.max() - date.min()).days, \n",
    "                                                    lambda date: (dateMax - date.max()).days],\n",
    "                                  'InvoiceNo': lambda i: len(i.unique()),\n",
    "                                  'Total': [sum, min, max]}).fillna(0)\n",
    "X.columns = ['PurchaseDuration', 'Recency', 'Frequency', 'MonetaryValue', 'MinPerPurchase', 'MaxPerPurchase']"
   ]
  },
  {
   "cell_type": "code",
   "execution_count": 15,
   "metadata": {},
   "outputs": [
    {
     "data": {
      "text/html": [
       "<div>\n",
       "<style scoped>\n",
       "    .dataframe tbody tr th:only-of-type {\n",
       "        vertical-align: middle;\n",
       "    }\n",
       "\n",
       "    .dataframe tbody tr th {\n",
       "        vertical-align: top;\n",
       "    }\n",
       "\n",
       "    .dataframe thead th {\n",
       "        text-align: right;\n",
       "    }\n",
       "</style>\n",
       "<table border=\"1\" class=\"dataframe\">\n",
       "  <thead>\n",
       "    <tr style=\"text-align: right;\">\n",
       "      <th></th>\n",
       "      <th>PurchaseDuration</th>\n",
       "      <th>Recency</th>\n",
       "      <th>Frequency</th>\n",
       "      <th>MonetaryValue</th>\n",
       "      <th>MinPerPurchase</th>\n",
       "      <th>MaxPerPurchase</th>\n",
       "    </tr>\n",
       "  </thead>\n",
       "  <tbody>\n",
       "    <tr>\n",
       "      <th>count</th>\n",
       "      <td>4372.000000</td>\n",
       "      <td>4372.000000</td>\n",
       "      <td>4372.000000</td>\n",
       "      <td>4372.000000</td>\n",
       "      <td>4372.000000</td>\n",
       "      <td>4372.000000</td>\n",
       "    </tr>\n",
       "    <tr>\n",
       "      <th>mean</th>\n",
       "      <td>122.975069</td>\n",
       "      <td>88.908280</td>\n",
       "      <td>4.060842</td>\n",
       "      <td>1919.765580</td>\n",
       "      <td>30.514125</td>\n",
       "      <td>144.789959</td>\n",
       "    </tr>\n",
       "    <tr>\n",
       "      <th>std</th>\n",
       "      <td>128.827245</td>\n",
       "      <td>98.428224</td>\n",
       "      <td>7.368396</td>\n",
       "      <td>8287.717984</td>\n",
       "      <td>1169.873897</td>\n",
       "      <td>1344.715992</td>\n",
       "    </tr>\n",
       "    <tr>\n",
       "      <th>min</th>\n",
       "      <td>0.000000</td>\n",
       "      <td>0.000000</td>\n",
       "      <td>0.000000</td>\n",
       "      <td>0.000000</td>\n",
       "      <td>0.000000</td>\n",
       "      <td>0.000000</td>\n",
       "    </tr>\n",
       "    <tr>\n",
       "      <th>25%</th>\n",
       "      <td>0.000000</td>\n",
       "      <td>14.000000</td>\n",
       "      <td>1.000000</td>\n",
       "      <td>291.762500</td>\n",
       "      <td>0.850000</td>\n",
       "      <td>30.600000</td>\n",
       "    </tr>\n",
       "    <tr>\n",
       "      <th>50%</th>\n",
       "      <td>77.500000</td>\n",
       "      <td>47.000000</td>\n",
       "      <td>2.000000</td>\n",
       "      <td>641.660000</td>\n",
       "      <td>5.040000</td>\n",
       "      <td>51.000000</td>\n",
       "    </tr>\n",
       "    <tr>\n",
       "      <th>75%</th>\n",
       "      <td>243.000000</td>\n",
       "      <td>140.000000</td>\n",
       "      <td>4.000000</td>\n",
       "      <td>1576.585000</td>\n",
       "      <td>9.950000</td>\n",
       "      <td>102.000000</td>\n",
       "    </tr>\n",
       "    <tr>\n",
       "      <th>max</th>\n",
       "      <td>364.000000</td>\n",
       "      <td>364.000000</td>\n",
       "      <td>200.000000</td>\n",
       "      <td>268478.000000</td>\n",
       "      <td>77183.600000</td>\n",
       "      <td>77183.600000</td>\n",
       "    </tr>\n",
       "  </tbody>\n",
       "</table>\n",
       "</div>"
      ],
      "text/plain": [
       "       PurchaseDuration      Recency    Frequency  MonetaryValue  \\\n",
       "count       4372.000000  4372.000000  4372.000000    4372.000000   \n",
       "mean         122.975069    88.908280     4.060842    1919.765580   \n",
       "std          128.827245    98.428224     7.368396    8287.717984   \n",
       "min            0.000000     0.000000     0.000000       0.000000   \n",
       "25%            0.000000    14.000000     1.000000     291.762500   \n",
       "50%           77.500000    47.000000     2.000000     641.660000   \n",
       "75%          243.000000   140.000000     4.000000    1576.585000   \n",
       "max          364.000000   364.000000   200.000000  268478.000000   \n",
       "\n",
       "       MinPerPurchase  MaxPerPurchase  \n",
       "count     4372.000000     4372.000000  \n",
       "mean        30.514125      144.789959  \n",
       "std       1169.873897     1344.715992  \n",
       "min          0.000000        0.000000  \n",
       "25%          0.850000       30.600000  \n",
       "50%          5.040000       51.000000  \n",
       "75%          9.950000      102.000000  \n",
       "max      77183.600000    77183.600000  "
      ]
     },
     "execution_count": 15,
     "metadata": {},
     "output_type": "execute_result"
    }
   ],
   "source": [
    "# Check results\n",
    "X.describe()"
   ]
  },
  {
   "cell_type": "code",
   "execution_count": 16,
   "metadata": {},
   "outputs": [],
   "source": [
    "# Remove customer that did not make purchases\n",
    "X = X[X.MonetaryValue>0]"
   ]
  },
  {
   "cell_type": "code",
   "execution_count": 17,
   "metadata": {},
   "outputs": [],
   "source": [
    "# Compute global metrics\n",
    "returnRate = X[X.Frequency>1].shape[0]/X.shape[0]\n",
    "churnRate = 1-returnRate\n",
    "\n",
    "# Compute customer additional measures\n",
    "X['AveragePurchaseValue'] = X.MonetaryValue/X.Frequency\n",
    "X['AveragePurchaseFrequency'] = X.PurchaseDuration/X.Frequency"
   ]
  },
  {
   "cell_type": "code",
   "execution_count": 18,
   "metadata": {},
   "outputs": [
    {
     "data": {
      "image/png": "[encoded data removed]",
      "text/plain": [
       "<Figure size 648x504 with 1 Axes>"
      ]
     },
     "metadata": {
      "needs_background": "light"
     },
     "output_type": "display_data"
    }
   ],
   "source": [
    "# Plot customers purchase frequency\n",
    "ax = X['AveragePurchaseFrequency'].hist(\n",
    "    bins=20,\n",
    "    rwidth=0.7,\n",
    "    figsize=(9,7)\n",
    ")\n",
    "ax.set_xlabel('average purchase frequency (days)')\n",
    "ax.set_ylabel('customers')\n",
    "plt.show()"
   ]
  },
  {
   "cell_type": "code",
   "execution_count": 19,
   "metadata": {},
   "outputs": [
    {
     "data": {
      "image/png": "[encoded data removed]",
      "text/plain": [
       "<Figure size 648x504 with 1 Axes>"
      ]
     },
     "metadata": {
      "needs_background": "light"
     },
     "output_type": "display_data"
    }
   ],
   "source": [
    "# Plot customers average purchase\n",
    "ax = X['AveragePurchaseValue'].hist(\n",
    "    bins=40,\n",
    "    rwidth=0.7,\n",
    "    figsize=(9,7)\n",
    ")\n",
    "ax.set_xlabel('average purchase value per customer')\n",
    "ax.set_ylabel('customers')\n",
    "plt.show()"
   ]
  },
  {
   "cell_type": "code",
   "execution_count": 20,
   "metadata": {},
   "outputs": [
    {
     "data": {
      "image/png": "[encoded data removed]",
      "text/plain": [
       "<Figure size 648x504 with 1 Axes>"
      ]
     },
     "metadata": {
      "needs_background": "light"
     },
     "output_type": "display_data"
    }
   ],
   "source": [
    "# Plot transactions per customer\n",
    "ax = X['Frequency'].hist(\n",
    "    bins=40,\n",
    "    rwidth=0.7,\n",
    "    figsize=(9,7)\n",
    ")\n",
    "ax.set_xlabel('frequency of transactions')\n",
    "ax.set_ylabel('customers')\n",
    "plt.show()"
   ]
  },
  {
   "cell_type": "markdown",
   "metadata": {},
   "source": [
    "### Data preparation"
   ]
  },
  {
   "cell_type": "code",
   "execution_count": 21,
   "metadata": {},
   "outputs": [],
   "source": [
    "# Compute RFM and other metrics for the first 9 months as the modeling dataset\n",
    "dateMax = pd.to_datetime('2011-08-31')\n",
    "X2 = ds[ds['InvoiceDate']<'2011-09-01'].groupby(['CustomerID']).agg(\n",
    "    {'InvoiceDate': [lambda date: (date.max() - date.min()).days, \n",
    "                    lambda date: (dateMax - date.max()).days],\n",
    "    'InvoiceNo': lambda i: len(i.unique()),\n",
    "    'Total': [sum, min, max]}).fillna(0)\n",
    "X2.columns = ['PurchaseDuration', 'Recency', 'Frequency', 'MonetaryValue', 'MinPerPurchase', 'MaxPerPurchase']\n",
    "\n",
    "# Compute customer additional measures\n",
    "X2['AveragePurchaseValue'] = X2.MonetaryValue/X2.Frequency\n",
    "X2['AveragePurchaseFrequency'] = X2.PurchaseDuration/X2.Frequency"
   ]
  },
  {
   "cell_type": "code",
   "execution_count": 22,
   "metadata": {},
   "outputs": [],
   "source": [
    "# Compute sales per customer last 3 months\n",
    "sales = ds[ds['InvoiceDate']>'2011-08-31'].groupby(['CustomerID']).agg('Total').sum().fillna(0)\n",
    "sales = sales.rename('CLV_Next3Months')"
   ]
  },
  {
   "cell_type": "code",
   "execution_count": 23,
   "metadata": {},
   "outputs": [],
   "source": [
    "# Merge modeling dataset with sales following 3 months\n",
    "X2 = X2.merge(sales.to_frame(), left_index=True, right_index=True).fillna(0)"
   ]
  },
  {
   "cell_type": "code",
   "execution_count": 24,
   "metadata": {},
   "outputs": [],
   "source": [
    "# Remove customers who did not bought nothing in the first 9 months (new customers in the last 3 months)\n",
    "X2 = X2[X2.MonetaryValue>0]"
   ]
  },
  {
   "cell_type": "code",
   "execution_count": 25,
   "metadata": {},
   "outputs": [
    {
     "name": "stdout",
     "output_type": "stream",
     "text": [
      "      MonetaryValue\n",
      "0.01        41.6160\n",
      "0.99     14344.0432\n"
     ]
    }
   ],
   "source": [
    "# Find and remove outliers\n",
    "\n",
    "# Function to find outliers on columns based on percentile\n",
    "def removeOutliers(df, colList, lowPercentile=0.05, highPercentile=0.95, verbose=False):\n",
    "    quant_df = df[colList].quantile([lowPercentile, highPercentile])\n",
    "    if verbose:\n",
    "        print(quant_df)\n",
    "    for name in list(df[colList].columns):\n",
    "        df = df[(df[name] >= quant_df.loc[lowPercentile, name]) & (df[name] <= quant_df.loc[highPercentile, name])]\n",
    "    return df\n",
    "\n",
    "# Find and remove outliers\n",
    "cols = ['MonetaryValue']\n",
    "X2 = removeOutliers(X2, colList=cols , lowPercentile=0.01, highPercentile=0.99, verbose=True)"
   ]
  },
  {
   "cell_type": "markdown",
   "metadata": {},
   "source": [
    "### Modeling"
   ]
  },
  {
   "cell_type": "code",
   "execution_count": 26,
   "metadata": {},
   "outputs": [],
   "source": [
    "# Create the Target\n",
    "y = X2['CLV_Next3Months']"
   ]
  },
  {
   "cell_type": "code",
   "execution_count": 27,
   "metadata": {},
   "outputs": [],
   "source": [
    "# Normalize training data\n",
    "scaler = MinMaxScaler(feature_range=(0, 1))\n",
    "\n",
    "# MinMax scaler returns an array, so the dataframe must be recreated\n",
    "X2_scaled = pd.DataFrame(scaler.fit_transform(X2.values), columns=X2.columns,index=X2.index)"
   ]
  },
  {
   "cell_type": "code",
   "execution_count": 28,
   "metadata": {},
   "outputs": [],
   "source": [
    "# Split the dataset intro train and test\n",
    "X_train, X_test, y_train, y_test = train_test_split(X2_scaled, y, train_size = 0.75, test_size = 0.25, random_state = 123)"
   ]
  },
  {
   "cell_type": "code",
   "execution_count": 29,
   "metadata": {},
   "outputs": [],
   "source": [
    "# Remove the Target from the training\n",
    "X_train = X_train.drop(['CLV_Next3Months'],1)\n",
    "X_test = X_test.drop(['CLV_Next3Months'],1)"
   ]
  },
  {
   "cell_type": "code",
   "execution_count": 30,
   "metadata": {},
   "outputs": [],
   "source": [
    "# Create the model\n",
    "estimator = MLPRegressor(random_state=123, hidden_layer_sizes=6, max_iter=400)"
   ]
  },
  {
   "cell_type": "code",
   "execution_count": 31,
   "metadata": {},
   "outputs": [
    {
     "data": {
      "image/png": "[encoded data removed]",
      "text/plain": [
       "<Figure size 648x504 with 1 Axes>"
      ]
     },
     "metadata": {
      "needs_background": "light"
     },
     "output_type": "display_data"
    },
    {
     "data": {
      "text/plain": [
       "<AxesSubplot:title={'center':'Learning Curve for MLPRegressor'}, xlabel='Training Instances', ylabel='Score'>"
      ]
     },
     "execution_count": 31,
     "metadata": {},
     "output_type": "execute_result"
    }
   ],
   "source": [
    "# Plot the learning curve\n",
    "fig, ax = plt.subplots(figsize=(9, 7))\n",
    "cv = 10\n",
    "sizes = np.linspace(0.1, 1.0, 5)\n",
    "visualizer = LearningCurve(estimator=estimator, cv=cv, scoring='r2', train_sizes=sizes, n_jobs=4, random_state=123)\n",
    "visualizer.fit(X_train, y_train)\n",
    "visualizer.show(ax=ax)"
   ]
  },
  {
   "cell_type": "code",
   "execution_count": 32,
   "metadata": {},
   "outputs": [
    {
     "name": "stderr",
     "output_type": "stream",
     "text": [
      "/Users/nunoantonio/opt/anaconda3/lib/python3.8/site-packages/sklearn/neural_network/_multilayer_perceptron.py:614: ConvergenceWarning: Stochastic Optimizer: Maximum iterations (400) reached and the optimization hasn't converged yet.\n",
      "  warnings.warn(\n"
     ]
    },
    {
     "data": {
      "text/plain": [
       "MLPRegressor(hidden_layer_sizes=6, max_iter=400, random_state=123)"
      ]
     },
     "execution_count": 32,
     "metadata": {},
     "output_type": "execute_result"
    }
   ],
   "source": [
    "# Create and train the model\n",
    "estimator.fit(X_train, y_train)"
   ]
  },
  {
   "cell_type": "markdown",
   "metadata": {},
   "source": [
    "### Evaluation"
   ]
  },
  {
   "cell_type": "code",
   "execution_count": 33,
   "metadata": {},
   "outputs": [],
   "source": [
    "# predict y for X_train and X_test\n",
    "y_pred_train = estimator.predict(X_train) \n",
    "y_pred_test = estimator.predict(X_test) "
   ]
  },
  {
   "cell_type": "code",
   "execution_count": 34,
   "metadata": {},
   "outputs": [],
   "source": [
    "# Function to create dataframe with metrics\n",
    "def performanceMetricsDF(metricsObj, yTrain, yPredTrain, yTest, yPredTest,set1='Train', set2='Test'):\n",
    "  measures_list = ['MAE','RMSE', 'R^2','MAPE (%)','MAX Error']\n",
    "  train_results = [metricsObj.mean_absolute_error(yTrain, yPredTrain),\n",
    "                np.sqrt(metricsObj.mean_squared_error(yTrain, yPredTrain)),\n",
    "                metricsObj.r2_score(yTrain, yPredTrain),\n",
    "                metricsObj.mean_absolute_percentage_error(yTrain, yPredTrain),\n",
    "                metricsObj.max_error(yTrain, yPredTrain)]\n",
    "  test_results = [metricsObj.mean_absolute_error(yTest, yPredTest),\n",
    "                np.sqrt(metricsObj.mean_squared_error(yTest, yPredTest)),\n",
    "                metricsObj.r2_score(yTest, yPredTest),\n",
    "                  metricsObj.mean_absolute_percentage_error(yTest, yPredTest),\n",
    "                metricsObj.max_error(yTest, yPredTest)]\n",
    "  resultsDF = pd.DataFrame({'Measure': measures_list, set1: train_results, set2:test_results})\n",
    "  return(resultsDF)"
   ]
  },
  {
   "cell_type": "code",
   "execution_count": 35,
   "metadata": {},
   "outputs": [
    {
     "data": {
      "text/html": [
       "<div>\n",
       "<style scoped>\n",
       "    .dataframe tbody tr th:only-of-type {\n",
       "        vertical-align: middle;\n",
       "    }\n",
       "\n",
       "    .dataframe tbody tr th {\n",
       "        vertical-align: top;\n",
       "    }\n",
       "\n",
       "    .dataframe thead th {\n",
       "        text-align: right;\n",
       "    }\n",
       "</style>\n",
       "<table border=\"1\" class=\"dataframe\">\n",
       "  <thead>\n",
       "    <tr style=\"text-align: right;\">\n",
       "      <th></th>\n",
       "      <th>Measure</th>\n",
       "      <th>Train</th>\n",
       "      <th>Test</th>\n",
       "    </tr>\n",
       "  </thead>\n",
       "  <tbody>\n",
       "    <tr>\n",
       "      <th>0</th>\n",
       "      <td>MAE</td>\n",
       "      <td>5.289109e+02</td>\n",
       "      <td>4.865731e+02</td>\n",
       "    </tr>\n",
       "    <tr>\n",
       "      <th>1</th>\n",
       "      <td>RMSE</td>\n",
       "      <td>1.219862e+03</td>\n",
       "      <td>9.485798e+02</td>\n",
       "    </tr>\n",
       "    <tr>\n",
       "      <th>2</th>\n",
       "      <td>R^2</td>\n",
       "      <td>-2.575622e-02</td>\n",
       "      <td>-2.861155e-02</td>\n",
       "    </tr>\n",
       "    <tr>\n",
       "      <th>3</th>\n",
       "      <td>MAPE (%)</td>\n",
       "      <td>4.580073e+17</td>\n",
       "      <td>4.807133e+17</td>\n",
       "    </tr>\n",
       "    <tr>\n",
       "      <th>4</th>\n",
       "      <td>MAX Error</td>\n",
       "      <td>1.903329e+04</td>\n",
       "      <td>9.272660e+03</td>\n",
       "    </tr>\n",
       "  </tbody>\n",
       "</table>\n",
       "</div>"
      ],
      "text/plain": [
       "     Measure         Train          Test\n",
       "0        MAE  5.289109e+02  4.865731e+02\n",
       "1       RMSE  1.219862e+03  9.485798e+02\n",
       "2        R^2 -2.575622e-02 -2.861155e-02\n",
       "3   MAPE (%)  4.580073e+17  4.807133e+17\n",
       "4  MAX Error  1.903329e+04  9.272660e+03"
      ]
     },
     "execution_count": 35,
     "metadata": {},
     "output_type": "execute_result"
    }
   ],
   "source": [
    "# Show performance results\n",
    "resultsDF = performanceMetricsDF(metrics, y_train, y_pred_train, y_test, y_pred_test)\n",
    "resultsDF"
   ]
  },
  {
   "cell_type": "code",
   "execution_count": 36,
   "metadata": {},
   "outputs": [
    {
     "data": {
      "text/html": [
       "<div>\n",
       "<style scoped>\n",
       "    .dataframe tbody tr th:only-of-type {\n",
       "        vertical-align: middle;\n",
       "    }\n",
       "\n",
       "    .dataframe tbody tr th {\n",
       "        vertical-align: top;\n",
       "    }\n",
       "\n",
       "    .dataframe thead th {\n",
       "        text-align: right;\n",
       "    }\n",
       "</style>\n",
       "<table border=\"1\" class=\"dataframe\">\n",
       "  <thead>\n",
       "    <tr style=\"text-align: right;\">\n",
       "      <th></th>\n",
       "      <th>CLV_Next3Months</th>\n",
       "      <th>Prediction</th>\n",
       "      <th>Residual</th>\n",
       "    </tr>\n",
       "    <tr>\n",
       "      <th>CustomerID</th>\n",
       "      <th></th>\n",
       "      <th></th>\n",
       "      <th></th>\n",
       "    </tr>\n",
       "  </thead>\n",
       "  <tbody>\n",
       "    <tr>\n",
       "      <th>14640.0</th>\n",
       "      <td>624.02</td>\n",
       "      <td>242.893019</td>\n",
       "      <td>381.126981</td>\n",
       "    </tr>\n",
       "    <tr>\n",
       "      <th>16066.0</th>\n",
       "      <td>1205.49</td>\n",
       "      <td>158.194197</td>\n",
       "      <td>1047.295803</td>\n",
       "    </tr>\n",
       "    <tr>\n",
       "      <th>16327.0</th>\n",
       "      <td>1374.58</td>\n",
       "      <td>338.024031</td>\n",
       "      <td>1036.555969</td>\n",
       "    </tr>\n",
       "    <tr>\n",
       "      <th>16690.0</th>\n",
       "      <td>139.08</td>\n",
       "      <td>181.876972</td>\n",
       "      <td>-42.796972</td>\n",
       "    </tr>\n",
       "    <tr>\n",
       "      <th>17703.0</th>\n",
       "      <td>307.78</td>\n",
       "      <td>178.055938</td>\n",
       "      <td>129.724062</td>\n",
       "    </tr>\n",
       "    <tr>\n",
       "      <th>...</th>\n",
       "      <td>...</td>\n",
       "      <td>...</td>\n",
       "      <td>...</td>\n",
       "    </tr>\n",
       "    <tr>\n",
       "      <th>12641.0</th>\n",
       "      <td>0.00</td>\n",
       "      <td>148.528748</td>\n",
       "      <td>-148.528748</td>\n",
       "    </tr>\n",
       "    <tr>\n",
       "      <th>14784.0</th>\n",
       "      <td>175.31</td>\n",
       "      <td>234.776159</td>\n",
       "      <td>-59.466159</td>\n",
       "    </tr>\n",
       "    <tr>\n",
       "      <th>18044.0</th>\n",
       "      <td>772.17</td>\n",
       "      <td>301.752792</td>\n",
       "      <td>470.417208</td>\n",
       "    </tr>\n",
       "    <tr>\n",
       "      <th>17589.0</th>\n",
       "      <td>561.10</td>\n",
       "      <td>260.334163</td>\n",
       "      <td>300.765837</td>\n",
       "    </tr>\n",
       "    <tr>\n",
       "      <th>16750.0</th>\n",
       "      <td>207.81</td>\n",
       "      <td>242.487538</td>\n",
       "      <td>-34.677538</td>\n",
       "    </tr>\n",
       "  </tbody>\n",
       "</table>\n",
       "<p>813 rows × 3 columns</p>\n",
       "</div>"
      ],
      "text/plain": [
       "            CLV_Next3Months  Prediction     Residual\n",
       "CustomerID                                          \n",
       "14640.0              624.02  242.893019   381.126981\n",
       "16066.0             1205.49  158.194197  1047.295803\n",
       "16327.0             1374.58  338.024031  1036.555969\n",
       "16690.0              139.08  181.876972   -42.796972\n",
       "17703.0              307.78  178.055938   129.724062\n",
       "...                     ...         ...          ...\n",
       "12641.0                0.00  148.528748  -148.528748\n",
       "14784.0              175.31  234.776159   -59.466159\n",
       "18044.0              772.17  301.752792   470.417208\n",
       "17589.0              561.10  260.334163   300.765837\n",
       "16750.0              207.81  242.487538   -34.677538\n",
       "\n",
       "[813 rows x 3 columns]"
      ]
     },
     "execution_count": 36,
     "metadata": {},
     "output_type": "execute_result"
    }
   ],
   "source": [
    "# Visualize predictions vs target values \n",
    "temp = y_test.to_frame()\n",
    "temp['Prediction'] = y_pred_test\n",
    "temp['Residual'] = y_test - temp.Prediction\n",
    "temp"
   ]
  },
  {
   "cell_type": "code",
   "execution_count": 37,
   "metadata": {},
   "outputs": [
    {
     "data": {
      "image/png": "[encoded data removed]",
      "text/plain": [
       "<Figure size 648x504 with 1 Axes>"
      ]
     },
     "metadata": {
      "needs_background": "light"
     },
     "output_type": "display_data"
    },
    {
     "data": {
      "text/plain": [
       "<AxesSubplot:title={'center':'Prediction Error for MLPRegressor'}, xlabel='$y$', ylabel='$\\\\hat{y}$'>"
      ]
     },
     "execution_count": 37,
     "metadata": {},
     "output_type": "execute_result"
    }
   ],
   "source": [
    "# Visualize the prediction error\n",
    "fig, ax = plt.subplots(figsize=(9, 7))\n",
    "predError_vis = PredictionError(estimator)\n",
    "predError_vis.fit(X_train, y_train)  # Fit the training data to the visualizer\n",
    "predError_vis.score(X_test, y_test)  # Evaluate the model on the test data\n",
    "predError_vis.show(ax=ax)"
   ]
  },
  {
   "cell_type": "markdown",
   "metadata": {},
   "source": [
    "<font color='blue'>C1: Try to optimize results. Tip: Create features to capture time, such as week number,day in year, etc.</font>"
   ]
  }
 ],
 "metadata": {
  "kernelspec": {
   "display_name": "Python 3",
   "language": "python",
   "name": "python3"
  },
  "language_info": {
   "codemirror_mode": {
    "name": "ipython",
    "version": 3
   },
   "file_extension": ".py",
   "mimetype": "text/x-python",
   "name": "python",
   "nbconvert_exporter": "python",
   "pygments_lexer": "ipython3",
   "version": "3.8.5"
  }
 },
 "nbformat": 4,
 "nbformat_minor": 2
}
